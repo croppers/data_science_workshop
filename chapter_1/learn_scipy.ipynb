{
 "cells": [
  {
   "cell_type": "code",
   "execution_count": 1,
   "metadata": {},
   "outputs": [],
   "source": [
    "import scipy"
   ]
  },
  {
   "cell_type": "markdown",
   "metadata": {},
   "source": [
    "# scientific units"
   ]
  },
  {
   "cell_type": "code",
   "execution_count": 8,
   "metadata": {},
   "outputs": [
    {
     "data": {
      "text/plain": [
       "0.30479999999999996"
      ]
     },
     "execution_count": 8,
     "metadata": {},
     "output_type": "execute_result"
    }
   ],
   "source": [
    "# many scientific constants / unit conversions are stored in scipy\n",
    "from scipy import constants\n",
    "constants.foot # says how many meters in a foot"
   ]
  },
  {
   "cell_type": "markdown",
   "metadata": {},
   "source": [
    "# optimize a function"
   ]
  },
  {
   "cell_type": "code",
   "execution_count": 12,
   "metadata": {},
   "outputs": [
    {
     "data": {
      "text/plain": [
       "      fun: 9.916666666666668\n",
       " hess_inv: array([[0.16666667]])\n",
       "      jac: array([-1.1920929e-07])\n",
       "  message: 'Optimization terminated successfully.'\n",
       "     nfev: 6\n",
       "      nit: 2\n",
       "     njev: 3\n",
       "   status: 0\n",
       "  success: True\n",
       "        x: array([-0.83333334])"
      ]
     },
     "execution_count": 12,
     "metadata": {},
     "output_type": "execute_result"
    }
   ],
   "source": [
    "# you can optimize a function in scipy, too\n",
    "from scipy.optimize import minimize\n",
    "\n",
    "def f(x):\n",
    "    return 3*x**2 + 5*x + 12\n",
    "\n",
    "# 0 is the initial guess for the root\n",
    "minimize(f, 0)"
   ]
  },
  {
   "cell_type": "code",
   "execution_count": 13,
   "metadata": {},
   "outputs": [],
   "source": [
    "# minimum for the function is 9.92, at x = -0.83"
   ]
  },
  {
   "cell_type": "markdown",
   "metadata": {},
   "source": [
    "# spatial data"
   ]
  },
  {
   "cell_type": "code",
   "execution_count": 40,
   "metadata": {},
   "outputs": [
    {
     "data": {
      "text/plain": [
       "<matplotlib.collections.PathCollection at 0x17fbeabe0>"
      ]
     },
     "execution_count": 40,
     "metadata": {},
     "output_type": "execute_result"
    },
    {
     "data": {
      "image/png": "[encoded data removed]",
      "text/plain": [
       "<Figure size 432x288 with 1 Axes>"
      ]
     },
     "metadata": {
      "needs_background": "light"
     },
     "output_type": "display_data"
    }
   ],
   "source": [
    "x = [42, 20, 82, 77, 60, 24,  4, 22, 58, 44, 80, 48, 50, 83, 84, 63, 41,\n",
    "    7, 94, 68, 61, 43, 37, 11, 42, 57, 10, 85, 89, 32, 63, 72,  4, 60,\n",
    "    23, 15, 86, 27, 99, 44, 38, 26, 47, 98, 90, 17, 83, 74, 77, 33, 53,\n",
    "    43,  9, 20, 80, 92, 23, 76, 42, 78, 12, 58,  3, 90, 91, 48,  0, 87,\n",
    "    56, 40, 76, 90,  1,  9, 29, 42, 86, 73, 70, 71, 71, 59,  6, 96, 45,\n",
    "    11, 96, 32, 15, 48, 39, 17, 53, 35, 57, 65, 99, 77, 73, 94]\n",
    "y = [66, 26, 92, 12,  2, 34, 15, 59,  0, 91, 95, 91, 35, 90, 73, 40, 48,\n",
    "    82,  7, 77,  2, 47, 34, 63, 98, 25, 99, 31, 24, 98, 90, 98, 60, 40,\n",
    "    89, 78, 98,  9, 64, 10, 29, 68, 49, 57,  4, 59, 30, 61, 74, 65, 46,\n",
    "    42, 44, 81, 30, 46, 80, 10, 26, 99, 76, 89, 74, 83, 75, 17, 51, 51,\n",
    "    66, 99, 18, 62, 36, 11, 80,  2, 76, 75, 75, 60,  7, 99, 39, 53, 89,\n",
    "    61,  9, 71, 82, 45, 58,  8, 14, 83, 41, 82, 49, 75, 84, 63]\n",
    "plt.scatter(x, y)"
   ]
  },
  {
   "cell_type": "code",
   "execution_count": 41,
   "metadata": {},
   "outputs": [
    {
     "data": {
      "text/plain": [
       "9.899494936611665"
      ]
     },
     "execution_count": 41,
     "metadata": {},
     "output_type": "execute_result"
    }
   ],
   "source": [
    "# how far away are these two points?\n",
    "from scipy.spatial.distance import euclidean\n",
    "euclidean((5, 3), (-2, 10))"
   ]
  },
  {
   "cell_type": "markdown",
   "metadata": {},
   "source": [
    "# interpolation"
   ]
  },
  {
   "cell_type": "code",
   "execution_count": 42,
   "metadata": {},
   "outputs": [
    {
     "data": {
      "text/plain": [
       "array([3. , 4.5, 7.5, 7.8, 9. ])"
      ]
     },
     "execution_count": 42,
     "metadata": {},
     "output_type": "execute_result"
    }
   ],
   "source": [
    "from scipy.interpolate import interp1d\n",
    "a = [1, 2, 3, 4, 5, 6, 7, 8, 9, 10]\n",
    "b = [3, 6, 9, 12, 15, 18, 21, 24, 27, 30]\n",
    "interpolation_function = interp1d(a, b)\n",
    "interpolation_function([1, 1.5, 2.5, 2.6, 3]) # originally would be [3, x, x, x, 9]"
   ]
  },
  {
   "cell_type": "markdown",
   "metadata": {},
   "source": [
    "# statistics"
   ]
  },
  {
   "cell_type": "code",
   "execution_count": 45,
   "metadata": {},
   "outputs": [
    {
     "name": "stdout",
     "output_type": "stream",
     "text": [
      "LinregressResult(slope=-0.03225884370584186, intercept=56.48713752581553, rvalue=-0.031422720616566986, pvalue=0.7562923468993488, stderr=0.10365194599574869, intercept_stderr=6.187317969522215)\n",
      "LinregressResult(slope=3.0, intercept=0.0, rvalue=1.0, pvalue=4.375000000000076e-80, stderr=0.0, intercept_stderr=0.0)\n"
     ]
    }
   ],
   "source": [
    "# we will try the linear regression technique\n",
    "from scipy.stats import linregress\n",
    "print(linregress(x,y)) # should be a weak relationship\n",
    "print(linregress(a,b)) # should be a strong relationship"
   ]
  },
  {
   "cell_type": "code",
   "execution_count": null,
   "metadata": {},
   "outputs": [],
   "source": []
  }
 ],
 "metadata": {
  "kernelspec": {
   "display_name": "pangeo_kernel",
   "language": "python",
   "name": "pangeo_kernel"
  },
  "language_info": {
   "codemirror_mode": {
    "name": "ipython",
    "version": 3
   },
   "file_extension": ".py",
   "mimetype": "text/x-python",
   "name": "python",
   "nbconvert_exporter": "python",
   "pygments_lexer": "ipython3",
   "version": "3.9.13"
  },
  "orig_nbformat": 4
 },
 "nbformat": 4,
 "nbformat_minor": 2
}
