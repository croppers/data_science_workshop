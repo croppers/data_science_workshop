{
 "cells": [
  {
   "cell_type": "code",
   "execution_count": 1,
   "metadata": {},
   "outputs": [],
   "source": [
    "import scipy"
   ]
  },
  {
   "cell_type": "markdown",
   "metadata": {},
   "source": [
    "# scientific units"
   ]
  },
  {
   "cell_type": "code",
   "execution_count": 2,
   "metadata": {},
   "outputs": [
    {
     "data": {
      "text/plain": [
       "0.30479999999999996"
      ]
     },
     "execution_count": 2,
     "metadata": {},
     "output_type": "execute_result"
    }
   ],
   "source": [
    "from scipy import constants\n",
    "constants.foot # says how many SI units are in this measurement (aka meters for this example)"
   ]
  },
  {
   "cell_type": "markdown",
   "metadata": {},
   "source": [
    "# optimize a function"
   ]
  },
  {
   "cell_type": "code",
   "execution_count": 9,
   "metadata": {},
   "outputs": [
    {
     "data": {
      "text/plain": [
       "      fun: 9.916666666666668\n",
       " hess_inv: array([[0.16666667]])\n",
       "      jac: array([-1.1920929e-07])\n",
       "  message: 'Optimization terminated successfully.'\n",
       "     nfev: 6\n",
       "      nit: 2\n",
       "     njev: 3\n",
       "   status: 0\n",
       "  success: True\n",
       "        x: array([-0.83333334])"
      ]
     },
     "execution_count": 9,
     "metadata": {},
     "output_type": "execute_result"
    }
   ],
   "source": [
    "from scipy.optimize import minimize\n",
    "\n",
    "def f(x):\n",
    "    return 3*x**2 + 5*x + 12\n",
    "\n",
    "minimize(f, 0, method = 'BFGS')"
   ]
  },
  {
   "cell_type": "code",
   "execution_count": 7,
   "metadata": {},
   "outputs": [
    {
     "data": {
      "text/plain": [
       "9.93"
      ]
     },
     "execution_count": 7,
     "metadata": {},
     "output_type": "execute_result"
    }
   ],
   "source": [
    "f(-0.9)"
   ]
  },
  {
   "cell_type": "markdown",
   "metadata": {},
   "source": [
    "# spatial data"
   ]
  },
  {
   "cell_type": "code",
   "execution_count": 10,
   "metadata": {
    "scrolled": true
   },
   "outputs": [
    {
     "data": {
      "text/plain": [
       "<matplotlib.collections.PathCollection at 0x15e3af15790>"
      ]
     },
     "execution_count": 10,
     "metadata": {},
     "output_type": "execute_result"
    },
    {
     "data": {
      "image/png": "[encoded data removed]",
      "text/plain": [
       "<Figure size 432x288 with 1 Axes>"
      ]
     },
     "metadata": {
      "needs_background": "light"
     },
     "output_type": "display_data"
    }
   ],
   "source": [
    "x = [42, 20, 82, 77, 60, 24,  4, 22, 58, 44, 80, 48, 50, 83, 84, 63, 41,\n",
    "    7, 94, 68, 61, 43, 37, 11, 42, 57, 10, 85, 89, 32, 63, 72,  4, 60,\n",
    "    23, 15, 86, 27, 99, 44, 38, 26, 47, 98, 90, 17, 83, 74, 77, 33, 53,\n",
    "    43,  9, 20, 80, 92, 23, 76, 42, 78, 12, 58,  3, 90, 91, 48,  0, 87,\n",
    "    56, 40, 76, 90,  1,  9, 29, 42, 86, 73, 70, 71, 71, 59,  6, 96, 45,\n",
    "    11, 96, 32, 15, 48, 39, 17, 53, 35, 57, 65, 99, 77, 73, 94]\n",
    "y = [66, 26, 92, 12,  2, 34, 15, 59,  0, 91, 95, 91, 35, 90, 73, 40, 48,\n",
    "    82,  7, 77,  2, 47, 34, 63, 98, 25, 99, 31, 24, 98, 90, 98, 60, 40,\n",
    "    89, 78, 98,  9, 64, 10, 29, 68, 49, 57,  4, 59, 30, 61, 74, 65, 46,\n",
    "    42, 44, 81, 30, 46, 80, 10, 26, 99, 76, 89, 74, 83, 75, 17, 51, 51,\n",
    "    66, 99, 18, 62, 36, 11, 80,  2, 76, 75, 75, 60,  7, 99, 39, 53, 89,\n",
    "    61,  9, 71, 82, 45, 58,  8, 14, 83, 41, 82, 49, 75, 84, 63]\n",
    "\n",
    "import matplotlib.pyplot as plt\n",
    "plt.scatter(x, y)"
   ]
  },
  {
   "cell_type": "code",
   "execution_count": 11,
   "metadata": {},
   "outputs": [
    {
     "data": {
      "text/plain": [
       "75.0066663703967"
      ]
     },
     "execution_count": 11,
     "metadata": {},
     "output_type": "execute_result"
    }
   ],
   "source": [
    "p1 = (20, 26)\n",
    "p2 = (75, 77)\n",
    "\n",
    "from scipy.spatial.distance import euclidean\n",
    "euclidean(p1, p2)"
   ]
  },
  {
   "cell_type": "markdown",
   "metadata": {},
   "source": [
    "# interpolation"
   ]
  },
  {
   "cell_type": "code",
   "execution_count": 14,
   "metadata": {},
   "outputs": [
    {
     "data": {
      "text/plain": [
       "array([12.  , 12.3 , 12.03,  9.6 ])"
      ]
     },
     "execution_count": 14,
     "metadata": {},
     "output_type": "execute_result"
    }
   ],
   "source": [
    "from scipy.interpolate import interp1d\n",
    "\n",
    "# great for missing data!\n",
    "a = [1, 2, 3, 5, 6, 7, 8, 9, 10] # imagine this is time\n",
    "b = [3, 6, 9, 15, 18, 21, 24, 27, 30] # imagine this is our measurement\n",
    "\n",
    "interpolation_function = interp1d(a, b)\n",
    "interpolation_function([4, 4.1, 4.01, 3.2])"
   ]
  },
  {
   "cell_type": "markdown",
   "metadata": {},
   "source": [
    "# statistics"
   ]
  },
  {
   "cell_type": "code",
   "execution_count": 15,
   "metadata": {},
   "outputs": [],
   "source": [
    "from scipy import stats"
   ]
  },
  {
   "cell_type": "code",
   "execution_count": 17,
   "metadata": {},
   "outputs": [
    {
     "data": {
      "text/plain": [
       "<matplotlib.collections.PathCollection at 0x15e3d6569d0>"
      ]
     },
     "execution_count": 17,
     "metadata": {},
     "output_type": "execute_result"
    },
    {
     "data": {
      "image/png": "[encoded data removed]",
      "text/plain": [
       "<Figure size 432x288 with 1 Axes>"
      ]
     },
     "metadata": {
      "needs_background": "light"
     },
     "output_type": "display_data"
    }
   ],
   "source": [
    "x = [42, 20, 82, 77, 60, 24,  4, 22, 58, 44, 80, 48, 50, 83, 84, 63, 41,\n",
    "    7, 94, 68, 61, 43, 37, 11, 42, 57, 10, 85, 89, 32, 63, 72,  4, 60,\n",
    "    23, 15, 86, 27, 99, 44, 38, 26, 47, 98, 90, 17, 83, 74, 77, 33, 53,\n",
    "    43,  9, 20, 80, 92, 23, 76, 42, 78, 12, 58,  3, 90, 91, 48,  0, 87,\n",
    "    56, 40, 76, 90,  1,  9, 29, 42, 86, 73, 70, 71, 71, 59,  6, 96, 45,\n",
    "    11, 96, 32, 15, 48, 39, 17, 53, 35, 57, 65, 99, 77, 73, 94]\n",
    "\n",
    "x = stats.zscore(x) # standardize the data x_norm = (x-u)/sigma\n",
    "y = stats.zscore(y)\n",
    "\n",
    "plt.scatter(x, y)"
   ]
  },
  {
   "cell_type": "code",
   "execution_count": 18,
   "metadata": {},
   "outputs": [
    {
     "data": {
      "text/plain": [
       "<matplotlib.collections.PathCollection at 0x15e3d6a3ac0>"
      ]
     },
     "execution_count": 18,
     "metadata": {},
     "output_type": "execute_result"
    },
    {
     "data": {
      "image/png": "[encoded data removed]",
      "text/plain": [
       "<Figure size 432x288 with 1 Axes>"
      ]
     },
     "metadata": {
      "needs_background": "light"
     },
     "output_type": "display_data"
    }
   ],
   "source": [
    "plt.scatter(a,b)"
   ]
  },
  {
   "cell_type": "code",
   "execution_count": 19,
   "metadata": {},
   "outputs": [
    {
     "data": {
      "text/plain": [
       "LinregressResult(slope=-0.031422720616566986, intercept=1.0625402502616436e-16, rvalue=-0.03142272061656699, pvalue=0.7562923468993488, stderr=0.10096537154548021, intercept_stderr=0.10096537154548021)"
      ]
     },
     "execution_count": 19,
     "metadata": {},
     "output_type": "execute_result"
    }
   ],
   "source": [
    "stats.linregress(x,y)"
   ]
  },
  {
   "cell_type": "code",
   "execution_count": 20,
   "metadata": {},
   "outputs": [
    {
     "data": {
      "text/plain": [
       "LinregressResult(slope=3.000000000000001, intercept=-7.105427357601002e-15, rvalue=1.0, pvalue=3.292585384803146e-70, stderr=0.0, intercept_stderr=0.0)"
      ]
     },
     "execution_count": 20,
     "metadata": {},
     "output_type": "execute_result"
    }
   ],
   "source": [
    "\n",
    "stats.linregress(a,b)"
   ]
  },
  {
   "cell_type": "code",
   "execution_count": 23,
   "metadata": {},
   "outputs": [
    {
     "data": {
      "text/plain": [
       "array([ 1,  2,  3,  5,  6,  7,  8,  9, 10])"
      ]
     },
     "execution_count": 23,
     "metadata": {},
     "output_type": "execute_result"
    }
   ],
   "source": [
    "import numpy as np\n",
    "a = np.array(a)"
   ]
  },
  {
   "cell_type": "code",
   "execution_count": 25,
   "metadata": {},
   "outputs": [
    {
     "name": "stdout",
     "output_type": "stream",
     "text": [
      "10 1\n"
     ]
    }
   ],
   "source": [
    "max_a = np.max(a)\n",
    "min_a = np.min(a)\n",
    "print(max_a, min_a)"
   ]
  },
  {
   "cell_type": "code",
   "execution_count": 28,
   "metadata": {},
   "outputs": [
    {
     "data": {
      "text/plain": [
       "array([0.        , 0.11111111, 0.22222222, 0.44444444, 0.55555556,\n",
       "       0.66666667, 0.77777778, 0.88888889, 1.        ])"
      ]
     },
     "execution_count": 28,
     "metadata": {},
     "output_type": "execute_result"
    }
   ],
   "source": [
    "(a - min_a)/(max_a - min_a) # normalize"
   ]
  },
  {
   "cell_type": "code",
   "execution_count": null,
   "metadata": {},
   "outputs": [],
   "source": []
  }
 ],
 "metadata": {
  "kernelspec": {
   "display_name": "Python 3 (ipykernel)",
   "language": "python",
   "name": "python3"
  },
  "language_info": {
   "codemirror_mode": {
    "name": "ipython",
    "version": 3
   },
   "file_extension": ".py",
   "mimetype": "text/x-python",
   "name": "python",
   "nbconvert_exporter": "python",
   "pygments_lexer": "ipython3",
   "version": "3.9.12"
  }
 },
 "nbformat": 4,
 "nbformat_minor": 2
}
