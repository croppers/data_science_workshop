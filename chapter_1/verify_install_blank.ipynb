{
 "cells": [
  {
   "cell_type": "markdown",
   "id": "ed567fbf-5937-45a3-9e76-3f2da2930f28",
   "metadata": {},
   "source": [
    "load packages"
   ]
  },
  {
   "cell_type": "code",
   "execution_count": null,
   "id": "d040b370-9a20-4547-8ca8-eed0d787be42",
   "metadata": {},
   "outputs": [],
   "source": []
  },
  {
   "cell_type": "markdown",
   "id": "67e82282-5b16-442b-b344-25f3b90f62c0",
   "metadata": {},
   "source": [
    "you can use NumPy to construct arrays, which we can do math with!"
   ]
  },
  {
   "cell_type": "code",
   "execution_count": null,
   "id": "ad738e8e-a1c0-4974-bf88-d1ef823b8a93",
   "metadata": {},
   "outputs": [],
   "source": []
  },
  {
   "cell_type": "markdown",
   "id": "08fce9ec-14e6-47ca-ae04-ce7e4c783223",
   "metadata": {},
   "source": [
    "a key feature of SciPy is the linear regression package"
   ]
  },
  {
   "cell_type": "code",
   "execution_count": null,
   "id": "abd40440-96e9-416a-a1ab-b733a0e75ed7",
   "metadata": {},
   "outputs": [],
   "source": []
  },
  {
   "cell_type": "markdown",
   "id": "6cc57c80-e743-4f2a-9ebb-bff4b07c613c",
   "metadata": {},
   "source": [
    "this linear regression result might be meaningful on its own, but it's way more powerful if we visualize it too, using matplotlib!"
   ]
  },
  {
   "cell_type": "code",
   "execution_count": null,
   "id": "f67a1402-7bd1-44cf-a18c-94f8dfab1baa",
   "metadata": {},
   "outputs": [],
   "source": []
  },
  {
   "cell_type": "markdown",
   "id": "652fff63-3ed2-4424-9637-43ba7fb0f329",
   "metadata": {},
   "source": [
    "we can load datasets (most commonly .csv files) into Data Frame objects using Pandas"
   ]
  },
  {
   "cell_type": "code",
   "execution_count": null,
   "id": "bb5e9d0d-ccdf-42a9-97aa-967a5c3b8c34",
   "metadata": {},
   "outputs": [],
   "source": []
  },
  {
   "cell_type": "code",
   "execution_count": null,
   "id": "e108e18e",
   "metadata": {},
   "outputs": [],
   "source": []
  }
 ],
 "metadata": {
  "kernelspec": {
   "display_name": "Python 3 (ipykernel)",
   "language": "python",
   "name": "python3"
  },
  "language_info": {
   "codemirror_mode": {
    "name": "ipython",
    "version": 3
   },
   "file_extension": ".py",
   "mimetype": "text/x-python",
   "name": "python",
   "nbconvert_exporter": "python",
   "pygments_lexer": "ipython3",
   "version": "3.9.12"
  }
 },
 "nbformat": 4,
 "nbformat_minor": 5
}
