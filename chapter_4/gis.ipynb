{
 "cells": [
  {
   "cell_type": "markdown",
   "metadata": {},
   "source": [
    "# Welcome to GIS!\n",
    "Hi there! Welcome to our notebook on GIS. GIS stands for Geographic Information Systems, which is a field focused on using computer technology to understand spatial data, especially relating to our activities here on Earth (hence geography).\n",
    "\n",
    "To get started, we will need to download some special Python packages that are specifically designed to help process geospatial data. Download the requirements.txt file here."
   ]
  },
  {
   "cell_type": "code",
   "execution_count": null,
   "metadata": {
    "vscode": {
     "languageId": "plaintext"
    }
   },
   "outputs": [],
   "source": []
  }
 ],
 "metadata": {
  "language_info": {
   "name": "python"
  },
  "orig_nbformat": 4
 },
 "nbformat": 4,
 "nbformat_minor": 2
}
