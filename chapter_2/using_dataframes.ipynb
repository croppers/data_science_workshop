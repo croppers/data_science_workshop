{
 "cells": [
  {
   "cell_type": "markdown",
   "metadata": {},
   "source": [
    "# Data Science with Data Frames\n",
    "In this notebook, we will be using the powerful tool of dataframes (a pandas object) to investigate data from two sources: Taylor Swift's discography and a database of world crime stats. We will focusing on descriptive statistics, which are statistics that describe the dataset, like mean and max."
   ]
  },
  {
   "cell_type": "code",
   "execution_count": 46,
   "metadata": {},
   "outputs": [],
   "source": [
    "# import the NumPy library\n",
    "import numpy as np\n",
    "# import the Pandas library\n",
    "import pandas as pd"
   ]
  },
  {
   "cell_type": "markdown",
   "metadata": {},
   "source": [
    "## Taylor Swift\n",
    "We will begin this chapter by analyzing a dataset from Spotify, which contains information about all of the tracks uploaded by Taylor Swift's Spotify account. The first step is to load in our data, which we can do using the read_csv command."
   ]
  },
  {
   "cell_type": "code",
   "execution_count": 5,
   "metadata": {},
   "outputs": [],
   "source": [
    "# read the dataset into the DataFrame\n",
    "df = pd.read_csv('taylor_swift_spotify_data.csv')"
   ]
  },
  {
   "cell_type": "markdown",
   "metadata": {},
   "source": [
    "Now that we have the data read into our notebook, let's look at the data itself. We can do this by printing the column names, or even just checking the first few values of the data table."
   ]
  },
  {
   "cell_type": "code",
   "execution_count": 6,
   "metadata": {},
   "outputs": [
    {
     "name": "stdout",
     "output_type": "stream",
     "text": [
      "Index(['artist_name', 'artist_id', 'album_id', 'album_type',\n",
      "       'album_release_date', 'album_release_year',\n",
      "       'album_release_date_precision', 'danceability', 'energy', 'key',\n",
      "       'loudness', 'mode', 'speechiness', 'acousticness', 'instrumentalness',\n",
      "       'liveness', 'valence', 'tempo', 'track_id', 'analysis_url',\n",
      "       'time_signature', 'disc_number', 'duration_ms', 'explicit',\n",
      "       'track_href', 'is_local', 'track_name', 'track_preview_url',\n",
      "       'track_number', 'type', 'track_uri', 'external_urls.spotify',\n",
      "       'album_name', 'key_name', 'mode_name', 'key_mode'],\n",
      "      dtype='object')\n"
     ]
    }
   ],
   "source": [
    "# access the columns\n",
    "columns = df.columns\n",
    "print(columns)"
   ]
  },
  {
   "cell_type": "code",
   "execution_count": 7,
   "metadata": {},
   "outputs": [
    {
     "data": {
      "text/html": [
       "<div>\n",
       "<style scoped>\n",
       "    .dataframe tbody tr th:only-of-type {\n",
       "        vertical-align: middle;\n",
       "    }\n",
       "\n",
       "    .dataframe tbody tr th {\n",
       "        vertical-align: top;\n",
       "    }\n",
       "\n",
       "    .dataframe thead th {\n",
       "        text-align: right;\n",
       "    }\n",
       "</style>\n",
       "<table border=\"1\" class=\"dataframe\">\n",
       "  <thead>\n",
       "    <tr style=\"text-align: right;\">\n",
       "      <th></th>\n",
       "      <th>artist_name</th>\n",
       "      <th>artist_id</th>\n",
       "      <th>album_id</th>\n",
       "      <th>album_type</th>\n",
       "      <th>album_release_date</th>\n",
       "      <th>album_release_year</th>\n",
       "      <th>album_release_date_precision</th>\n",
       "      <th>danceability</th>\n",
       "      <th>energy</th>\n",
       "      <th>key</th>\n",
       "      <th>...</th>\n",
       "      <th>track_name</th>\n",
       "      <th>track_preview_url</th>\n",
       "      <th>track_number</th>\n",
       "      <th>type</th>\n",
       "      <th>track_uri</th>\n",
       "      <th>external_urls.spotify</th>\n",
       "      <th>album_name</th>\n",
       "      <th>key_name</th>\n",
       "      <th>mode_name</th>\n",
       "      <th>key_mode</th>\n",
       "    </tr>\n",
       "  </thead>\n",
       "  <tbody>\n",
       "    <tr>\n",
       "      <th>0</th>\n",
       "      <td>Taylor Swift</td>\n",
       "      <td>06HL4z0CvFAxyc27GXpf02</td>\n",
       "      <td>3lS1y25WAhcqJDATJK70Mq</td>\n",
       "      <td>album</td>\n",
       "      <td>2022-10-22</td>\n",
       "      <td>2022</td>\n",
       "      <td>day</td>\n",
       "      <td>0.735</td>\n",
       "      <td>0.444</td>\n",
       "      <td>10</td>\n",
       "      <td>...</td>\n",
       "      <td>Lavender Haze</td>\n",
       "      <td>NaN</td>\n",
       "      <td>1</td>\n",
       "      <td>track</td>\n",
       "      <td>spotify:track:4g2c7NoTWAOSYDy44l9nub</td>\n",
       "      <td>https://open.spotify.com/track/4g2c7NoTWAOSYDy...</td>\n",
       "      <td>Midnights (3am Edition)</td>\n",
       "      <td>A#</td>\n",
       "      <td>major</td>\n",
       "      <td>A# major</td>\n",
       "    </tr>\n",
       "    <tr>\n",
       "      <th>1</th>\n",
       "      <td>Taylor Swift</td>\n",
       "      <td>06HL4z0CvFAxyc27GXpf02</td>\n",
       "      <td>3lS1y25WAhcqJDATJK70Mq</td>\n",
       "      <td>album</td>\n",
       "      <td>2022-10-22</td>\n",
       "      <td>2022</td>\n",
       "      <td>day</td>\n",
       "      <td>0.658</td>\n",
       "      <td>0.378</td>\n",
       "      <td>7</td>\n",
       "      <td>...</td>\n",
       "      <td>Maroon</td>\n",
       "      <td>NaN</td>\n",
       "      <td>2</td>\n",
       "      <td>track</td>\n",
       "      <td>spotify:track:199E1RRrVmVTQqBXih5qRC</td>\n",
       "      <td>https://open.spotify.com/track/199E1RRrVmVTQqB...</td>\n",
       "      <td>Midnights (3am Edition)</td>\n",
       "      <td>G</td>\n",
       "      <td>major</td>\n",
       "      <td>G major</td>\n",
       "    </tr>\n",
       "    <tr>\n",
       "      <th>2</th>\n",
       "      <td>Taylor Swift</td>\n",
       "      <td>06HL4z0CvFAxyc27GXpf02</td>\n",
       "      <td>3lS1y25WAhcqJDATJK70Mq</td>\n",
       "      <td>album</td>\n",
       "      <td>2022-10-22</td>\n",
       "      <td>2022</td>\n",
       "      <td>day</td>\n",
       "      <td>0.638</td>\n",
       "      <td>0.634</td>\n",
       "      <td>4</td>\n",
       "      <td>...</td>\n",
       "      <td>Anti-Hero</td>\n",
       "      <td>NaN</td>\n",
       "      <td>3</td>\n",
       "      <td>track</td>\n",
       "      <td>spotify:track:02Zkkf2zMkwRGQjZ7T4p8f</td>\n",
       "      <td>https://open.spotify.com/track/02Zkkf2zMkwRGQj...</td>\n",
       "      <td>Midnights (3am Edition)</td>\n",
       "      <td>E</td>\n",
       "      <td>major</td>\n",
       "      <td>E major</td>\n",
       "    </tr>\n",
       "    <tr>\n",
       "      <th>3</th>\n",
       "      <td>Taylor Swift</td>\n",
       "      <td>06HL4z0CvFAxyc27GXpf02</td>\n",
       "      <td>3lS1y25WAhcqJDATJK70Mq</td>\n",
       "      <td>album</td>\n",
       "      <td>2022-10-22</td>\n",
       "      <td>2022</td>\n",
       "      <td>day</td>\n",
       "      <td>0.659</td>\n",
       "      <td>0.323</td>\n",
       "      <td>9</td>\n",
       "      <td>...</td>\n",
       "      <td>Snow On The Beach (feat. Lana Del Rey)</td>\n",
       "      <td>NaN</td>\n",
       "      <td>4</td>\n",
       "      <td>track</td>\n",
       "      <td>spotify:track:6ADDIJxxqzM9LMpm78yzQG</td>\n",
       "      <td>https://open.spotify.com/track/6ADDIJxxqzM9LMp...</td>\n",
       "      <td>Midnights (3am Edition)</td>\n",
       "      <td>A</td>\n",
       "      <td>major</td>\n",
       "      <td>A major</td>\n",
       "    </tr>\n",
       "    <tr>\n",
       "      <th>4</th>\n",
       "      <td>Taylor Swift</td>\n",
       "      <td>06HL4z0CvFAxyc27GXpf02</td>\n",
       "      <td>3lS1y25WAhcqJDATJK70Mq</td>\n",
       "      <td>album</td>\n",
       "      <td>2022-10-22</td>\n",
       "      <td>2022</td>\n",
       "      <td>day</td>\n",
       "      <td>0.694</td>\n",
       "      <td>0.380</td>\n",
       "      <td>2</td>\n",
       "      <td>...</td>\n",
       "      <td>You're On Your Own, Kid</td>\n",
       "      <td>NaN</td>\n",
       "      <td>5</td>\n",
       "      <td>track</td>\n",
       "      <td>spotify:track:7gVWKBcfIW93YxNBi3ApIE</td>\n",
       "      <td>https://open.spotify.com/track/7gVWKBcfIW93YxN...</td>\n",
       "      <td>Midnights (3am Edition)</td>\n",
       "      <td>D</td>\n",
       "      <td>major</td>\n",
       "      <td>D major</td>\n",
       "    </tr>\n",
       "  </tbody>\n",
       "</table>\n",
       "<p>5 rows × 36 columns</p>\n",
       "</div>"
      ],
      "text/plain": [
       "    artist_name               artist_id                album_id album_type  \\\n",
       "0  Taylor Swift  06HL4z0CvFAxyc27GXpf02  3lS1y25WAhcqJDATJK70Mq      album   \n",
       "1  Taylor Swift  06HL4z0CvFAxyc27GXpf02  3lS1y25WAhcqJDATJK70Mq      album   \n",
       "2  Taylor Swift  06HL4z0CvFAxyc27GXpf02  3lS1y25WAhcqJDATJK70Mq      album   \n",
       "3  Taylor Swift  06HL4z0CvFAxyc27GXpf02  3lS1y25WAhcqJDATJK70Mq      album   \n",
       "4  Taylor Swift  06HL4z0CvFAxyc27GXpf02  3lS1y25WAhcqJDATJK70Mq      album   \n",
       "\n",
       "  album_release_date  album_release_year album_release_date_precision  \\\n",
       "0         2022-10-22                2022                          day   \n",
       "1         2022-10-22                2022                          day   \n",
       "2         2022-10-22                2022                          day   \n",
       "3         2022-10-22                2022                          day   \n",
       "4         2022-10-22                2022                          day   \n",
       "\n",
       "   danceability  energy  key  ...                              track_name  \\\n",
       "0         0.735   0.444   10  ...                           Lavender Haze   \n",
       "1         0.658   0.378    7  ...                                  Maroon   \n",
       "2         0.638   0.634    4  ...                               Anti-Hero   \n",
       "3         0.659   0.323    9  ...  Snow On The Beach (feat. Lana Del Rey)   \n",
       "4         0.694   0.380    2  ...                 You're On Your Own, Kid   \n",
       "\n",
       "   track_preview_url  track_number   type  \\\n",
       "0                NaN             1  track   \n",
       "1                NaN             2  track   \n",
       "2                NaN             3  track   \n",
       "3                NaN             4  track   \n",
       "4                NaN             5  track   \n",
       "\n",
       "                              track_uri  \\\n",
       "0  spotify:track:4g2c7NoTWAOSYDy44l9nub   \n",
       "1  spotify:track:199E1RRrVmVTQqBXih5qRC   \n",
       "2  spotify:track:02Zkkf2zMkwRGQjZ7T4p8f   \n",
       "3  spotify:track:6ADDIJxxqzM9LMpm78yzQG   \n",
       "4  spotify:track:7gVWKBcfIW93YxNBi3ApIE   \n",
       "\n",
       "                               external_urls.spotify               album_name  \\\n",
       "0  https://open.spotify.com/track/4g2c7NoTWAOSYDy...  Midnights (3am Edition)   \n",
       "1  https://open.spotify.com/track/199E1RRrVmVTQqB...  Midnights (3am Edition)   \n",
       "2  https://open.spotify.com/track/02Zkkf2zMkwRGQj...  Midnights (3am Edition)   \n",
       "3  https://open.spotify.com/track/6ADDIJxxqzM9LMp...  Midnights (3am Edition)   \n",
       "4  https://open.spotify.com/track/7gVWKBcfIW93YxN...  Midnights (3am Edition)   \n",
       "\n",
       "   key_name mode_name  key_mode  \n",
       "0        A#     major  A# major  \n",
       "1         G     major   G major  \n",
       "2         E     major   E major  \n",
       "3         A     major   A major  \n",
       "4         D     major   D major  \n",
       "\n",
       "[5 rows x 36 columns]"
      ]
     },
     "execution_count": 7,
     "metadata": {},
     "output_type": "execute_result"
    }
   ],
   "source": [
    "df.head()"
   ]
  },
  {
   "cell_type": "markdown",
   "metadata": {},
   "source": [
    "how many columns are in this data table? how many rows (i.e., data points)?"
   ]
  },
  {
   "cell_type": "code",
   "execution_count": 5,
   "metadata": {},
   "outputs": [
    {
     "name": "stdout",
     "output_type": "stream",
     "text": [
      "No. of columns: 36\n",
      "No. of rows: 1265\n"
     ]
    }
   ],
   "source": [
    "# how many columns are there, how many rows?\n",
    "print('No. of columns:', len(columns))\n",
    "print('No. of rows:', len(df))"
   ]
  },
  {
   "cell_type": "markdown",
   "metadata": {},
   "source": [
    "now, let's move on to generating some descriptive statistics (statistical quantities that describe the dataset)"
   ]
  },
  {
   "cell_type": "code",
   "execution_count": 8,
   "metadata": {},
   "outputs": [
    {
     "name": "stdout",
     "output_type": "stream",
     "text": [
      "230381.6181818182\n"
     ]
    }
   ],
   "source": [
    "# what's the average length of a Taylor Swift song?\n",
    "avg_duration = df['duration_ms'].mean() # we can use the mean function for this\n",
    "print(avg_duration)\n",
    "# this is great, but it's in milliseconds. who knows about milliseconds?"
   ]
  },
  {
   "cell_type": "code",
   "execution_count": 7,
   "metadata": {},
   "outputs": [
    {
     "name": "stdout",
     "output_type": "stream",
     "text": [
      "The average song length is  3 minutes and 50 seconds\n"
     ]
    }
   ],
   "source": [
    "# define a function to convert the millisecond timestamp into something more understandable\n",
    "def convert_time(time_ms):\n",
    "    # convert from milliseconds to seconds\n",
    "    time_sec = time_ms / 1000\n",
    "    # get the minutes, dividing the seconds by 60\n",
    "    time_min = int(time_sec / 60)\n",
    "    # get the seconds extra past the last minute\n",
    "    time_sec = int(time_sec % 60)\n",
    "    return str(time_min)+' minutes and '+str(time_sec)+' seconds'\n",
    "\n",
    "print('The average song length is ', convert_time(avg_duration))"
   ]
  },
  {
   "cell_type": "markdown",
   "metadata": {},
   "source": [
    "Often, the purpose of generating descriptive statistics is to see how our dataset compares to another. So, how does our result for the average Taylor Swift song length compare to other modern pop songs? Well, the average in recent years is about... 3 minutes and 50 seconds, too!\n",
    "\n",
    "https://www.vox.com/2014/8/18/6003271/why-are-songs-3-minutes-long"
   ]
  },
  {
   "cell_type": "markdown",
   "metadata": {},
   "source": [
    "How about the tempo, then? the average tempo is 116 bpm\n",
    "\n",
    "https://www.washingtonpost.com/news/to-your-health/wp/2015/10/30/the-mathematical-formula-behind-feel-good-songs/"
   ]
  },
  {
   "cell_type": "code",
   "execution_count": 8,
   "metadata": {},
   "outputs": [
    {
     "data": {
      "text/plain": [
       "120.87697944664023"
      ]
     },
     "execution_count": 8,
     "metadata": {},
     "output_type": "execute_result"
    }
   ],
   "source": [
    "df['tempo'].mean()\n",
    "# a bit faster, but still very typical of the pop genre"
   ]
  },
  {
   "cell_type": "markdown",
   "metadata": {},
   "source": [
    "what are the top 3 keys that Taylor Swift likes to write in?"
   ]
  },
  {
   "cell_type": "code",
   "execution_count": 9,
   "metadata": {},
   "outputs": [
    {
     "data": {
      "text/plain": [
       "G major    224\n",
       "F major    156\n",
       "C major    151\n",
       "Name: key_mode, dtype: int64"
      ]
     },
     "execution_count": 9,
     "metadata": {},
     "output_type": "execute_result"
    }
   ],
   "source": [
    "df['key_mode'].value_counts()[:3]"
   ]
  },
  {
   "cell_type": "markdown",
   "metadata": {},
   "source": [
    "### Data Cleaning\n",
    "Often, the original / raw dataset that we get from the real world is not exactly what we want to analyze. For example, let's list all of Taylor Swift's albums on Spotify"
   ]
  },
  {
   "cell_type": "code",
   "execution_count": 12,
   "metadata": {},
   "outputs": [
    {
     "data": {
      "text/plain": [
       "array(['Midnights', 'evermore', 'folklore', 'Lover',\n",
       "       'Taylor Swift Karaoke: reputation', 'reputation',\n",
       "       'reputation Stadium Tour Surprise Song Playlist', '1989',\n",
       "       'Taylor Swift Karaoke: 1989', 'Red', 'Taylor Swift Karaoke: Red',\n",
       "       'Speak Now World Tour Live', 'Speak Now',\n",
       "       'Taylor Swift Karaoke: Speak Now', 'Fearless', 'Fearless Karaoke',\n",
       "       'Fearless Platinum Edition',\n",
       "       'Live From Clear Channel Stripped 2008', 'Taylor Swift',\n",
       "       'Taylor Swift Karaoke'], dtype=object)"
      ]
     },
     "execution_count": 12,
     "metadata": {},
     "output_type": "execute_result"
    }
   ],
   "source": [
    "df['album_name'].unique()"
   ]
  },
  {
   "cell_type": "markdown",
   "metadata": {},
   "source": [
    "it seems like there are lots of albums that have several versions. can we clean out this data?\n"
   ]
  },
  {
   "cell_type": "code",
   "execution_count": 10,
   "metadata": {},
   "outputs": [
    {
     "name": "stdout",
     "output_type": "stream",
     "text": [
      "['Midnights' 'evermore' 'folklore' 'Lover'\n",
      " 'Taylor Swift Karaoke: reputation' 'reputation'\n",
      " 'reputation Stadium Tour Surprise Song Playlist' '1989'\n",
      " 'Taylor Swift Karaoke: 1989' 'Red' 'Taylor Swift Karaoke: Red'\n",
      " 'Speak Now World Tour Live' 'Speak Now' 'Taylor Swift Karaoke: Speak Now'\n",
      " 'Fearless' 'Fearless Karaoke' 'Fearless Platinum Edition'\n",
      " 'Live From Clear Channel Stripped 2008' 'Taylor Swift'\n",
      " 'Taylor Swift Karaoke']\n"
     ]
    }
   ],
   "source": [
    "# create a mask that gets rid of any () versions\n",
    "mask = ~df['album_name'].str.contains('\\(')\n",
    "albums = df[mask]['album_name'].unique()\n",
    "print(albums) # great! That's much better..."
   ]
  },
  {
   "cell_type": "markdown",
   "metadata": {},
   "source": [
    "I am trying to open a club and I need some music to play. What's Taylor Swift's most danceable song?"
   ]
  },
  {
   "cell_type": "code",
   "execution_count": 12,
   "metadata": {},
   "outputs": [
    {
     "data": {
      "text/html": [
       "<div>\n",
       "<style scoped>\n",
       "    .dataframe tbody tr th:only-of-type {\n",
       "        vertical-align: middle;\n",
       "    }\n",
       "\n",
       "    .dataframe tbody tr th {\n",
       "        vertical-align: top;\n",
       "    }\n",
       "\n",
       "    .dataframe thead th {\n",
       "        text-align: right;\n",
       "    }\n",
       "</style>\n",
       "<table border=\"1\" class=\"dataframe\">\n",
       "  <thead>\n",
       "    <tr style=\"text-align: right;\">\n",
       "      <th></th>\n",
       "      <th>album_name</th>\n",
       "      <th>track_name</th>\n",
       "      <th>danceability</th>\n",
       "    </tr>\n",
       "  </thead>\n",
       "  <tbody>\n",
       "    <tr>\n",
       "      <th>370</th>\n",
       "      <td>Lover</td>\n",
       "      <td>I Think He Knows</td>\n",
       "      <td>0.897</td>\n",
       "    </tr>\n",
       "  </tbody>\n",
       "</table>\n",
       "</div>"
      ],
      "text/plain": [
       "    album_name        track_name  danceability\n",
       "370      Lover  I Think He Knows         0.897"
      ]
     },
     "execution_count": 12,
     "metadata": {},
     "output_type": "execute_result"
    }
   ],
   "source": [
    "# find the maximum of danceability metric, which is another descriptive statistic\n",
    "max_dance = df['danceability'].max()\n",
    "# generate a mask to filter the data\n",
    "mask = df['danceability'] == max_dance\n",
    "# now, display the masked data (but only the three relevant columns)\n",
    "df[mask][['album_name', 'track_name', 'danceability']]"
   ]
  },
  {
   "cell_type": "markdown",
   "metadata": {},
   "source": [
    "great job with this! now, we're going to move on to another example\n",
    "\n",
    "## World Crime Index\n",
    "The world crime index is a way of measuring how dangerous cities are, using a unitless index out of 100. The higher the crime index (and thus the lower the safety index is), the more dangerous the city. Let's start, just like we did with Taylor Swift, by reading in the data."
   ]
  },
  {
   "cell_type": "code",
   "execution_count": 75,
   "metadata": {},
   "outputs": [
    {
     "data": {
      "text/html": [
       "<div>\n",
       "<style scoped>\n",
       "    .dataframe tbody tr th:only-of-type {\n",
       "        vertical-align: middle;\n",
       "    }\n",
       "\n",
       "    .dataframe tbody tr th {\n",
       "        vertical-align: top;\n",
       "    }\n",
       "\n",
       "    .dataframe thead th {\n",
       "        text-align: right;\n",
       "    }\n",
       "</style>\n",
       "<table border=\"1\" class=\"dataframe\">\n",
       "  <thead>\n",
       "    <tr style=\"text-align: right;\">\n",
       "      <th></th>\n",
       "      <th>Rank</th>\n",
       "      <th>City</th>\n",
       "      <th>Crime Index</th>\n",
       "      <th>Safety Index</th>\n",
       "    </tr>\n",
       "  </thead>\n",
       "  <tbody>\n",
       "    <tr>\n",
       "      <th>0</th>\n",
       "      <td>1</td>\n",
       "      <td>Caracas, Venezuela</td>\n",
       "      <td>83.98</td>\n",
       "      <td>16.02</td>\n",
       "    </tr>\n",
       "    <tr>\n",
       "      <th>1</th>\n",
       "      <td>2</td>\n",
       "      <td>Pretoria, South Africa</td>\n",
       "      <td>81.98</td>\n",
       "      <td>18.02</td>\n",
       "    </tr>\n",
       "    <tr>\n",
       "      <th>2</th>\n",
       "      <td>3</td>\n",
       "      <td>Celaya, Mexico</td>\n",
       "      <td>81.80</td>\n",
       "      <td>18.20</td>\n",
       "    </tr>\n",
       "    <tr>\n",
       "      <th>3</th>\n",
       "      <td>4</td>\n",
       "      <td>San Pedro Sula, Honduras</td>\n",
       "      <td>80.87</td>\n",
       "      <td>19.13</td>\n",
       "    </tr>\n",
       "    <tr>\n",
       "      <th>4</th>\n",
       "      <td>5</td>\n",
       "      <td>Port Moresby, Papua New Guinea</td>\n",
       "      <td>80.71</td>\n",
       "      <td>19.29</td>\n",
       "    </tr>\n",
       "    <tr>\n",
       "      <th>...</th>\n",
       "      <td>...</td>\n",
       "      <td>...</td>\n",
       "      <td>...</td>\n",
       "      <td>...</td>\n",
       "    </tr>\n",
       "    <tr>\n",
       "      <th>448</th>\n",
       "      <td>449</td>\n",
       "      <td>Quebec City, Canada</td>\n",
       "      <td>15.14</td>\n",
       "      <td>84.86</td>\n",
       "    </tr>\n",
       "    <tr>\n",
       "      <th>449</th>\n",
       "      <td>450</td>\n",
       "      <td>Taipei, Taiwan</td>\n",
       "      <td>15.05</td>\n",
       "      <td>84.95</td>\n",
       "    </tr>\n",
       "    <tr>\n",
       "      <th>450</th>\n",
       "      <td>451</td>\n",
       "      <td>San Sebastian, Spain</td>\n",
       "      <td>14.86</td>\n",
       "      <td>85.14</td>\n",
       "    </tr>\n",
       "    <tr>\n",
       "      <th>451</th>\n",
       "      <td>452</td>\n",
       "      <td>Doha, Qatar</td>\n",
       "      <td>13.96</td>\n",
       "      <td>86.04</td>\n",
       "    </tr>\n",
       "    <tr>\n",
       "      <th>452</th>\n",
       "      <td>453</td>\n",
       "      <td>Abu Dhabi, United Arab Emirates</td>\n",
       "      <td>11.67</td>\n",
       "      <td>88.33</td>\n",
       "    </tr>\n",
       "  </tbody>\n",
       "</table>\n",
       "<p>453 rows × 4 columns</p>\n",
       "</div>"
      ],
      "text/plain": [
       "     Rank                             City  Crime Index  Safety Index\n",
       "0       1               Caracas, Venezuela        83.98         16.02\n",
       "1       2           Pretoria, South Africa        81.98         18.02\n",
       "2       3                   Celaya, Mexico        81.80         18.20\n",
       "3       4         San Pedro Sula, Honduras        80.87         19.13\n",
       "4       5   Port Moresby, Papua New Guinea        80.71         19.29\n",
       "..    ...                              ...          ...           ...\n",
       "448   449              Quebec City, Canada        15.14         84.86\n",
       "449   450                   Taipei, Taiwan        15.05         84.95\n",
       "450   451             San Sebastian, Spain        14.86         85.14\n",
       "451   452                      Doha, Qatar        13.96         86.04\n",
       "452   453  Abu Dhabi, United Arab Emirates        11.67         88.33\n",
       "\n",
       "[453 rows x 4 columns]"
      ]
     },
     "execution_count": 75,
     "metadata": {},
     "output_type": "execute_result"
    }
   ],
   "source": [
    "df = pd.read_csv('world_crime_index.csv')\n",
    "df"
   ]
  },
  {
   "cell_type": "markdown",
   "metadata": {},
   "source": [
    "It looks like we have 453 cities in our database, and it's already sorted by most dangerous (descending). Can we find out which country has the safest cities? We'll have to make a new column in our data frame, since \"City\" includes both the city and the country."
   ]
  },
  {
   "cell_type": "code",
   "execution_count": 76,
   "metadata": {},
   "outputs": [
    {
     "data": {
      "text/plain": [
       "'Caracas, Venezuela'"
      ]
     },
     "execution_count": 76,
     "metadata": {},
     "output_type": "execute_result"
    }
   ],
   "source": [
    "# let's start by looking at one City entry. Can you think of a way to get the country?\n",
    "df['City'][0]"
   ]
  },
  {
   "cell_type": "code",
   "execution_count": 77,
   "metadata": {},
   "outputs": [
    {
     "data": {
      "text/plain": [
       "array(['Venezuela', 'South Africa', 'Mexico', 'Honduras',\n",
       "       'Papua New Guinea', 'Afghanistan', 'Brazil', 'Trinidad And Tobago',\n",
       "       'MD', 'Argentina', 'TN', 'MI', 'Australia', 'Jamaica',\n",
       "       'United Kingdom', 'NM', 'Peru', 'Ecuador', 'MO', 'El Salvador',\n",
       "       'Colombia', 'Namibia', 'Puerto Rico', 'Dominican Republic',\n",
       "       'Syria', 'Angola', 'LA', 'WI', 'CA', 'Nigeria', 'IL', 'France',\n",
       "       'Philippines', 'Canada', 'OH', 'TX', 'Kazakhstan', 'Maldives',\n",
       "       'AB', 'Bangladesh', 'PA', 'Italy', 'Malaysia', 'GA', 'Guatemala',\n",
       "       'Libya', 'AK', 'Zimbabwe', 'Romania', 'Tanzania', 'India', 'Chile',\n",
       "       'DC', 'Iraq', 'Kenya', 'Belarus', 'IN', 'Belgium', 'FL', 'Sweden',\n",
       "       'Greece', 'KY', 'Iran', 'Botswana', 'Morocco', 'Costa Rica',\n",
       "       'Mongolia', 'MN', 'WA', 'NV', 'Uruguay', 'Spain', 'Pakistan',\n",
       "       'Algeria', 'Vietnam', 'Cambodia', 'Indonesia', 'Ukraine',\n",
       "       'Portugal', 'Ireland', 'OR', 'Russia', 'AZ', 'Egypt', 'Paraguay',\n",
       "       'BC', 'NY', 'VA', 'Turkey', 'Montenegro', 'Panama', 'Ethiopia',\n",
       "       'Tunisia', 'Newfoundland and Labrador', 'Ghana', 'NE',\n",
       "       'North Macedonia', 'New Zealand', 'Lebanon', 'Thailand', 'HI',\n",
       "       'NC', 'Bosnia And Herzegovina', 'CO', 'Moldova', 'Albania',\n",
       "       'Germany', 'Norway', 'Bulgaria', 'Poland', 'Serbia', 'Sri Lanka',\n",
       "       'MA', 'Jordan', 'Latvia', 'Lithuania', 'Nepal', 'Finland', 'China',\n",
       "       'Israel', 'Netherlands', 'ID', 'Hungary', 'Uzbekistan', 'Croatia',\n",
       "       'UT', 'Japan', 'Cyprus', 'Cuba', 'Kuwait', 'Azerbaijan',\n",
       "       'Saudi Arabia', 'Luxembourg', 'Slovakia', 'Austria', 'Singapore',\n",
       "       'Denmark', 'Switzerland', 'Czech Republic', 'South Korea',\n",
       "       'Georgia', 'Rwanda', 'Estonia', 'Iceland', 'Armenia', 'Hong Kong',\n",
       "       'Slovenia', 'Bahrain', 'Oman', 'United Arab Emirates', 'Taiwan',\n",
       "       'Qatar'], dtype=object)"
      ]
     },
     "execution_count": 77,
     "metadata": {},
     "output_type": "execute_result"
    }
   ],
   "source": [
    "# add in the country data\n",
    "df['Country'] = [x.split(', ')[1] for x in df['City']]\n",
    "# now, list all of the countries found in the dataset\n",
    "countries = df['Country'].unique()\n",
    "countries"
   ]
  },
  {
   "cell_type": "markdown",
   "metadata": {},
   "source": [
    "uh oh! it seems like our method split the USA into states, which we did not want. how can we consider the whole USA all at once?"
   ]
  },
  {
   "cell_type": "code",
   "execution_count": 78,
   "metadata": {},
   "outputs": [
    {
     "data": {
      "text/plain": [
       "array(['Venezuela', 'South Africa', 'Mexico', 'Honduras',\n",
       "       'Papua New Guinea', 'Afghanistan', 'Brazil', 'Trinidad And Tobago',\n",
       "       'United States', 'Argentina', 'Australia', 'Jamaica',\n",
       "       'United Kingdom', 'Peru', 'Ecuador', 'El Salvador', 'Colombia',\n",
       "       'Namibia', 'Puerto Rico', 'Dominican Republic', 'Syria', 'Angola',\n",
       "       'Nigeria', 'France', 'Philippines', 'Canada', 'Kazakhstan',\n",
       "       'Maldives', 'Bangladesh', 'Italy', 'Malaysia', 'Guatemala',\n",
       "       'Libya', 'Zimbabwe', 'Romania', 'Tanzania', 'India', 'Chile',\n",
       "       'Iraq', 'Kenya', 'Belarus', 'Belgium', 'Sweden', 'Greece', 'Iran',\n",
       "       'Botswana', 'Morocco', 'Costa Rica', 'Mongolia', 'Uruguay',\n",
       "       'Spain', 'Pakistan', 'Algeria', 'Vietnam', 'Cambodia', 'Indonesia',\n",
       "       'Ukraine', 'Portugal', 'Ireland', 'Russia', 'Egypt', 'Paraguay',\n",
       "       'Turkey', 'Montenegro', 'Panama', 'Ethiopia', 'Tunisia', 'Ghana',\n",
       "       'North Macedonia', 'New Zealand', 'Lebanon', 'Thailand',\n",
       "       'Bosnia And Herzegovina', 'Moldova', 'Albania', 'Germany',\n",
       "       'Norway', 'Bulgaria', 'Poland', 'Serbia', 'Sri Lanka', 'Jordan',\n",
       "       'Latvia', 'Lithuania', 'Nepal', 'Finland', 'China', 'Israel',\n",
       "       'Netherlands', 'Hungary', 'Uzbekistan', 'Croatia', 'Japan',\n",
       "       'Cyprus', 'Cuba', 'Kuwait', 'Azerbaijan', 'Saudi Arabia',\n",
       "       'Luxembourg', 'Slovakia', 'Austria', 'Singapore', 'Denmark',\n",
       "       'Switzerland', 'Czech Republic', 'South Korea', 'Georgia',\n",
       "       'Rwanda', 'Estonia', 'Iceland', 'Armenia', 'Hong Kong', 'Slovenia',\n",
       "       'Bahrain', 'Oman', 'United Arab Emirates', 'Taiwan', 'Qatar'],\n",
       "      dtype=object)"
      ]
     },
     "execution_count": 78,
     "metadata": {},
     "output_type": "execute_result"
    }
   ],
   "source": [
    "# add in the country data, this time indexing by -1\n",
    "df['Country'] = [x.split(', ')[-1] for x in df['City']]\n",
    "# now, list all of the countries found in the dataset\n",
    "countries = df['Country'].unique()\n",
    "countries"
   ]
  },
  {
   "cell_type": "code",
   "execution_count": 79,
   "metadata": {},
   "outputs": [],
   "source": [
    "# first, we'll create an array full of zeros to store this data. what size should it be?\n",
    "country_avg_safety = np.zeros(len(countries))\n",
    "for i in range(0, len(countries)):\n",
    "    mask = df['Country'] == countries[i]\n",
    "    country_avg_safety[i] = df[mask]['Safety Index'].mean()"
   ]
  },
  {
   "cell_type": "code",
   "execution_count": 80,
   "metadata": {},
   "outputs": [
    {
     "data": {
      "text/html": [
       "<div>\n",
       "<style scoped>\n",
       "    .dataframe tbody tr th:only-of-type {\n",
       "        vertical-align: middle;\n",
       "    }\n",
       "\n",
       "    .dataframe tbody tr th {\n",
       "        vertical-align: top;\n",
       "    }\n",
       "\n",
       "    .dataframe thead th {\n",
       "        text-align: right;\n",
       "    }\n",
       "</style>\n",
       "<table border=\"1\" class=\"dataframe\">\n",
       "  <thead>\n",
       "    <tr style=\"text-align: right;\">\n",
       "      <th></th>\n",
       "      <th>Country</th>\n",
       "      <th>Average Safety</th>\n",
       "    </tr>\n",
       "  </thead>\n",
       "  <tbody>\n",
       "    <tr>\n",
       "      <th>117</th>\n",
       "      <td>Qatar</td>\n",
       "      <td>86.04</td>\n",
       "    </tr>\n",
       "  </tbody>\n",
       "</table>\n",
       "</div>"
      ],
      "text/plain": [
       "    Country  Average Safety\n",
       "117   Qatar           86.04"
      ]
     },
     "execution_count": 80,
     "metadata": {},
     "output_type": "execute_result"
    }
   ],
   "source": [
    "df = pd.DataFrame({'Country': countries, 'Average Safety': country_avg_safety})\n",
    "# based on the cities in this dataset, which country is the safest?\n",
    "df.sort_values('Average Safety', ascending = False).head(1)"
   ]
  },
  {
   "cell_type": "markdown",
   "metadata": {},
   "source": [
    "based on this data, it seems like Qatar has the safest streets!\n",
    "\n",
    "limitations:\n",
    "* criminal statutes differ across countries\n",
    "* not all cities included\n",
    "* soft crime like harrassment would not be considered\n",
    "\n",
    "note: it's always important to consider the limitations of your dataset as a data scientist"
   ]
  }
 ],
 "metadata": {
  "kernelspec": {
   "display_name": "Python 3.9.12 ('base')",
   "language": "python",
   "name": "python3"
  },
  "language_info": {
   "codemirror_mode": {
    "name": "ipython",
    "version": 3
   },
   "file_extension": ".py",
   "mimetype": "text/x-python",
   "name": "python",
   "nbconvert_exporter": "python",
   "pygments_lexer": "ipython3",
   "version": "3.9.12"
  },
  "orig_nbformat": 4,
  "vscode": {
   "interpreter": {
    "hash": "40d3a090f54c6569ab1632332b64b2c03c39dcf918b08424e98f38b5ae0af88f"
   }
  }
 },
 "nbformat": 4,
 "nbformat_minor": 2
}
