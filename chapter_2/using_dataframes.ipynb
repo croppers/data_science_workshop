{
 "cells": [
  {
   "cell_type": "code",
   "execution_count": 134,
   "metadata": {},
   "outputs": [],
   "source": [
    "# import the Pandas library\n",
    "import pandas as pd"
   ]
  },
  {
   "cell_type": "code",
   "execution_count": 135,
   "metadata": {},
   "outputs": [],
   "source": [
    "# read the dataset into the DataFrame\n",
    "df = pd.read_csv('taylor_swift_spotify_data.csv')"
   ]
  },
  {
   "cell_type": "code",
   "execution_count": 136,
   "metadata": {},
   "outputs": [
    {
     "name": "stdout",
     "output_type": "stream",
     "text": [
      "Index(['artist_name', 'artist_id', 'album_id', 'album_type',\n",
      "       'album_release_date', 'album_release_year',\n",
      "       'album_release_date_precision', 'danceability', 'energy', 'key',\n",
      "       'loudness', 'mode', 'speechiness', 'acousticness', 'instrumentalness',\n",
      "       'liveness', 'valence', 'tempo', 'track_id', 'analysis_url',\n",
      "       'time_signature', 'disc_number', 'duration_ms', 'explicit',\n",
      "       'track_href', 'is_local', 'track_name', 'track_preview_url',\n",
      "       'track_number', 'type', 'track_uri', 'external_urls.spotify',\n",
      "       'album_name', 'key_name', 'mode_name', 'key_mode'],\n",
      "      dtype='object')\n"
     ]
    }
   ],
   "source": [
    "# access the columns\n",
    "columns = df.columns\n",
    "print(columns)"
   ]
  },
  {
   "cell_type": "code",
   "execution_count": 137,
   "metadata": {},
   "outputs": [
    {
     "name": "stdout",
     "output_type": "stream",
     "text": [
      "No. of columns: 36\n",
      "No. of rows: 1265\n"
     ]
    }
   ],
   "source": [
    "# how many columns are there, how many rows?\n",
    "print('No. of columns:', len(columns))\n",
    "print('No. of rows:', len(df))"
   ]
  },
  {
   "cell_type": "code",
   "execution_count": 159,
   "metadata": {},
   "outputs": [
    {
     "name": "stdout",
     "output_type": "stream",
     "text": [
      "230381.6181818182\n"
     ]
    }
   ],
   "source": [
    "# what's the average length of a Taylor Swift song?\n",
    "avg_duration = df['duration_ms'].mean()\n",
    "print(avg_duration)\n",
    "# this is great, but it's in milliseconds. who knows about milliseconds?"
   ]
  },
  {
   "cell_type": "code",
   "execution_count": 164,
   "metadata": {},
   "outputs": [
    {
     "name": "stdout",
     "output_type": "stream",
     "text": [
      "The average song length is  3 minutes and 50 seconds\n"
     ]
    }
   ],
   "source": [
    "# define a function to convert the millisecond timestamp into something more understandable\n",
    "def convert_time(time_ms):\n",
    "    # convert from milliseconds to seconds\n",
    "    time_sec = time_ms / 1000\n",
    "    # get the minutes, dividing the seconds by 60\n",
    "    time_min = int(time_sec / 60)\n",
    "    # get the seconds extra past the last minute\n",
    "    time_sec = int(time_sec % 60)\n",
    "    return str(time_min)+' minutes and '+str(time_sec)+' seconds'\n",
    "\n",
    "print('The average song length is ', convert_time(avg_duration))"
   ]
  },
  {
   "cell_type": "markdown",
   "metadata": {},
   "source": [
    "But, how does this compare to the most recent average for pop songs? Well, the average in recent years is about... 3:50!\n",
    "https://www.vox.com/2014/8/18/6003271/why-are-songs-3-minutes-long"
   ]
  },
  {
   "cell_type": "markdown",
   "metadata": {},
   "source": [
    "how about the tempo, then? the average tempo is 116 bpm.. https://www.washingtonpost.com/news/to-your-health/wp/2015/10/30/the-mathematical-formula-behind-feel-good-songs/"
   ]
  },
  {
   "cell_type": "code",
   "execution_count": 166,
   "metadata": {},
   "outputs": [
    {
     "data": {
      "text/plain": [
       "120.87697944664023"
      ]
     },
     "execution_count": 166,
     "metadata": {},
     "output_type": "execute_result"
    }
   ],
   "source": [
    "df['tempo'].mean()\n",
    "# a bit faster, but still very typical of the pop genre"
   ]
  },
  {
   "cell_type": "markdown",
   "metadata": {},
   "source": [
    "what are the top 3 keys that Taylor Swift likes to write in?"
   ]
  },
  {
   "cell_type": "code",
   "execution_count": 167,
   "metadata": {},
   "outputs": [
    {
     "data": {
      "text/plain": [
       "G major    224\n",
       "F major    156\n",
       "C major    151\n",
       "Name: key_mode, dtype: int64"
      ]
     },
     "execution_count": 167,
     "metadata": {},
     "output_type": "execute_result"
    }
   ],
   "source": [
    "df['key_mode'].value_counts()[:3]"
   ]
  },
  {
   "cell_type": "markdown",
   "metadata": {},
   "source": [
    "List all of her albums on Spotify"
   ]
  },
  {
   "cell_type": "code",
   "execution_count": 148,
   "metadata": {},
   "outputs": [
    {
     "data": {
      "text/plain": [
       "array(['Midnights (3am Edition)', 'Midnights', \"Red (Taylor's Version)\",\n",
       "       \"Fearless (Taylor's Version)\", 'evermore (deluxe version)',\n",
       "       'evermore',\n",
       "       'folklore: the long pond studio sessions (from the Disney+ special) [deluxe edition]',\n",
       "       'folklore (deluxe version)', 'folklore', 'Lover',\n",
       "       'Taylor Swift Karaoke: reputation', 'reputation',\n",
       "       'reputation (Big Machine Radio Release Special)',\n",
       "       'reputation Stadium Tour Surprise Song Playlist',\n",
       "       'Taylor Swift Karaoke: 1989 (Deluxe)', '1989',\n",
       "       '1989 (Big Machine Radio Release Special)',\n",
       "       'Taylor Swift Karaoke: 1989 (Deluxe Edition)',\n",
       "       'Taylor Swift Karaoke: 1989', '1989 (Deluxe Edition)',\n",
       "       '1989 (Deluxe)', 'Red (Deluxe Edition)',\n",
       "       'Red (Big Machine Radio Release Special)', 'Red (Karaoke Version)',\n",
       "       'Red', 'Taylor Swift Karaoke: Red', 'Speak Now (Japanese Version)',\n",
       "       'Speak Now World Tour Live', 'Speak Now',\n",
       "       'Speak Now (Big Machine Radio Release Special)',\n",
       "       'Speak Now (Karaoke Version)', 'Taylor Swift Karaoke: Speak Now',\n",
       "       'Speak Now (Deluxe Edition)', 'Speak Now (US Version)',\n",
       "       'Speak Now (Deluxe Package)', 'Fearless',\n",
       "       'Fearless (International Version)',\n",
       "       'Fearless (Big Machine Radio Release Special)',\n",
       "       'Fearless (Karaoke Version)', 'Fearless Karaoke',\n",
       "       'Fearless (Platinum Edition)', 'Fearless Platinum Edition',\n",
       "       'Live From Clear Channel Stripped 2008', 'Taylor Swift',\n",
       "       'Taylor Swift (Big Machine Radio Release Special)',\n",
       "       'Taylor Swift (Karaoke Version)', 'Taylor Swift Karaoke'],\n",
       "      dtype=object)"
      ]
     },
     "execution_count": 148,
     "metadata": {},
     "output_type": "execute_result"
    }
   ],
   "source": [
    "df['album_name'].unique()"
   ]
  },
  {
   "cell_type": "markdown",
   "metadata": {},
   "source": [
    "I am trying to open a club. What's Taylor Swift's most danceable song?"
   ]
  },
  {
   "cell_type": "code",
   "execution_count": 158,
   "metadata": {},
   "outputs": [
    {
     "data": {
      "text/html": [
       "<div>\n",
       "<style scoped>\n",
       "    .dataframe tbody tr th:only-of-type {\n",
       "        vertical-align: middle;\n",
       "    }\n",
       "\n",
       "    .dataframe tbody tr th {\n",
       "        vertical-align: top;\n",
       "    }\n",
       "\n",
       "    .dataframe thead th {\n",
       "        text-align: right;\n",
       "    }\n",
       "</style>\n",
       "<table border=\"1\" class=\"dataframe\">\n",
       "  <thead>\n",
       "    <tr style=\"text-align: right;\">\n",
       "      <th></th>\n",
       "      <th>album_name</th>\n",
       "      <th>track_name</th>\n",
       "      <th>danceability</th>\n",
       "    </tr>\n",
       "  </thead>\n",
       "  <tbody>\n",
       "    <tr>\n",
       "      <th>370</th>\n",
       "      <td>Lover</td>\n",
       "      <td>I Think He Knows</td>\n",
       "      <td>0.897</td>\n",
       "    </tr>\n",
       "  </tbody>\n",
       "</table>\n",
       "</div>"
      ],
      "text/plain": [
       "    album_name        track_name  danceability\n",
       "370      Lover  I Think He Knows         0.897"
      ]
     },
     "execution_count": 158,
     "metadata": {},
     "output_type": "execute_result"
    }
   ],
   "source": [
    "max_dance = df['danceability'].max()\n",
    "mask = df['danceability'] == max_dance\n",
    "df[mask][['album_name', 'track_name', 'danceability']]"
   ]
  }
 ],
 "metadata": {
  "kernelspec": {
   "display_name": "pangeo_kernel",
   "language": "python",
   "name": "pangeo_kernel"
  },
  "language_info": {
   "codemirror_mode": {
    "name": "ipython",
    "version": 3
   },
   "file_extension": ".py",
   "mimetype": "text/x-python",
   "name": "python",
   "nbconvert_exporter": "python",
   "pygments_lexer": "ipython3",
   "version": "3.9.13"
  },
  "orig_nbformat": 4,
  "vscode": {
   "interpreter": {
    "hash": "c016e309f44dd8cac3ab0192b0619c7a931230ca0f6484d7bd27cd245ac37a95"
   }
  }
 },
 "nbformat": 4,
 "nbformat_minor": 2
}
