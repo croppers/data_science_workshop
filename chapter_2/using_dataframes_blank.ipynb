{
 "cells": [
  {
   "cell_type": "markdown",
   "metadata": {},
   "source": [
    "# Data Science with Data Frames\n",
    "In this notebook, we will be using the powerful tool of dataframes (a pandas object) to investigate data from two sources: Taylor Swift's discography and a database of world crime stats. We will focusing on descriptive statistics, which are statistics that describe the dataset, like mean and max."
   ]
  },
  {
   "cell_type": "code",
   "execution_count": 2,
   "metadata": {},
   "outputs": [],
   "source": [
    "import numpy as np # alias: np\n",
    "import pandas as pd # alias: pd\n",
    "# shift + enter --> run the cell"
   ]
  },
  {
   "cell_type": "markdown",
   "metadata": {},
   "source": [
    "## Taylor Swift\n",
    "We will begin this chapter by analyzing a dataset from Spotify, which contains information about all of the tracks uploaded by Taylor Swift's Spotify account. The first step is to load in our data, which we can do using the read_csv command."
   ]
  },
  {
   "cell_type": "code",
   "execution_count": 5,
   "metadata": {},
   "outputs": [],
   "source": [
    "# .csv comma separated values\n",
    "# https://www.kaggle.com/datasets/arthurboari/taylor-swift-spotify-data\n",
    "df = pd.read_csv('taylor_swift_spotify_data.csv')"
   ]
  },
  {
   "cell_type": "markdown",
   "metadata": {},
   "source": [
    "Now that we have the data read into our notebook, let's look at the data itself. We can do this by printing the column names, or even just checking the first few values of the data table."
   ]
  },
  {
   "cell_type": "code",
   "execution_count": 6,
   "metadata": {},
   "outputs": [
    {
     "name": "stdout",
     "output_type": "stream",
     "text": [
      "Index(['artist_name', 'artist_id', 'album_id', 'album_type',\n",
      "       'album_release_date', 'album_release_year',\n",
      "       'album_release_date_precision', 'danceability', 'energy', 'key',\n",
      "       'loudness', 'mode', 'speechiness', 'acousticness', 'instrumentalness',\n",
      "       'liveness', 'valence', 'tempo', 'track_id', 'analysis_url',\n",
      "       'time_signature', 'disc_number', 'duration_ms', 'explicit',\n",
      "       'track_href', 'is_local', 'track_name', 'track_preview_url',\n",
      "       'track_number', 'type', 'track_uri', 'external_urls.spotify',\n",
      "       'album_name', 'key_name', 'mode_name', 'key_mode'],\n",
      "      dtype='object')\n"
     ]
    }
   ],
   "source": [
    "# access the columns\n",
    "columns = df.columns\n",
    "print(columns)"
   ]
  },
  {
   "cell_type": "code",
   "execution_count": 10,
   "metadata": {},
   "outputs": [
    {
     "data": {
      "text/html": [
       "<div>\n",
       "<style scoped>\n",
       "    .dataframe tbody tr th:only-of-type {\n",
       "        vertical-align: middle;\n",
       "    }\n",
       "\n",
       "    .dataframe tbody tr th {\n",
       "        vertical-align: top;\n",
       "    }\n",
       "\n",
       "    .dataframe thead th {\n",
       "        text-align: right;\n",
       "    }\n",
       "</style>\n",
       "<table border=\"1\" class=\"dataframe\">\n",
       "  <thead>\n",
       "    <tr style=\"text-align: right;\">\n",
       "      <th></th>\n",
       "      <th>artist_name</th>\n",
       "      <th>artist_id</th>\n",
       "      <th>album_id</th>\n",
       "      <th>album_type</th>\n",
       "      <th>album_release_date</th>\n",
       "      <th>album_release_year</th>\n",
       "      <th>album_release_date_precision</th>\n",
       "      <th>danceability</th>\n",
       "      <th>energy</th>\n",
       "      <th>key</th>\n",
       "      <th>...</th>\n",
       "      <th>track_name</th>\n",
       "      <th>track_preview_url</th>\n",
       "      <th>track_number</th>\n",
       "      <th>type</th>\n",
       "      <th>track_uri</th>\n",
       "      <th>external_urls.spotify</th>\n",
       "      <th>album_name</th>\n",
       "      <th>key_name</th>\n",
       "      <th>mode_name</th>\n",
       "      <th>key_mode</th>\n",
       "    </tr>\n",
       "  </thead>\n",
       "  <tbody>\n",
       "    <tr>\n",
       "      <th>0</th>\n",
       "      <td>Taylor Swift</td>\n",
       "      <td>06HL4z0CvFAxyc27GXpf02</td>\n",
       "      <td>3lS1y25WAhcqJDATJK70Mq</td>\n",
       "      <td>album</td>\n",
       "      <td>2022-10-22</td>\n",
       "      <td>2022</td>\n",
       "      <td>day</td>\n",
       "      <td>0.735</td>\n",
       "      <td>0.444</td>\n",
       "      <td>10</td>\n",
       "      <td>...</td>\n",
       "      <td>Lavender Haze</td>\n",
       "      <td>NaN</td>\n",
       "      <td>1</td>\n",
       "      <td>track</td>\n",
       "      <td>spotify:track:4g2c7NoTWAOSYDy44l9nub</td>\n",
       "      <td>https://open.spotify.com/track/4g2c7NoTWAOSYDy...</td>\n",
       "      <td>Midnights (3am Edition)</td>\n",
       "      <td>A#</td>\n",
       "      <td>major</td>\n",
       "      <td>A# major</td>\n",
       "    </tr>\n",
       "    <tr>\n",
       "      <th>1</th>\n",
       "      <td>Taylor Swift</td>\n",
       "      <td>06HL4z0CvFAxyc27GXpf02</td>\n",
       "      <td>3lS1y25WAhcqJDATJK70Mq</td>\n",
       "      <td>album</td>\n",
       "      <td>2022-10-22</td>\n",
       "      <td>2022</td>\n",
       "      <td>day</td>\n",
       "      <td>0.658</td>\n",
       "      <td>0.378</td>\n",
       "      <td>7</td>\n",
       "      <td>...</td>\n",
       "      <td>Maroon</td>\n",
       "      <td>NaN</td>\n",
       "      <td>2</td>\n",
       "      <td>track</td>\n",
       "      <td>spotify:track:199E1RRrVmVTQqBXih5qRC</td>\n",
       "      <td>https://open.spotify.com/track/199E1RRrVmVTQqB...</td>\n",
       "      <td>Midnights (3am Edition)</td>\n",
       "      <td>G</td>\n",
       "      <td>major</td>\n",
       "      <td>G major</td>\n",
       "    </tr>\n",
       "    <tr>\n",
       "      <th>2</th>\n",
       "      <td>Taylor Swift</td>\n",
       "      <td>06HL4z0CvFAxyc27GXpf02</td>\n",
       "      <td>3lS1y25WAhcqJDATJK70Mq</td>\n",
       "      <td>album</td>\n",
       "      <td>2022-10-22</td>\n",
       "      <td>2022</td>\n",
       "      <td>day</td>\n",
       "      <td>0.638</td>\n",
       "      <td>0.634</td>\n",
       "      <td>4</td>\n",
       "      <td>...</td>\n",
       "      <td>Anti-Hero</td>\n",
       "      <td>NaN</td>\n",
       "      <td>3</td>\n",
       "      <td>track</td>\n",
       "      <td>spotify:track:02Zkkf2zMkwRGQjZ7T4p8f</td>\n",
       "      <td>https://open.spotify.com/track/02Zkkf2zMkwRGQj...</td>\n",
       "      <td>Midnights (3am Edition)</td>\n",
       "      <td>E</td>\n",
       "      <td>major</td>\n",
       "      <td>E major</td>\n",
       "    </tr>\n",
       "    <tr>\n",
       "      <th>3</th>\n",
       "      <td>Taylor Swift</td>\n",
       "      <td>06HL4z0CvFAxyc27GXpf02</td>\n",
       "      <td>3lS1y25WAhcqJDATJK70Mq</td>\n",
       "      <td>album</td>\n",
       "      <td>2022-10-22</td>\n",
       "      <td>2022</td>\n",
       "      <td>day</td>\n",
       "      <td>0.659</td>\n",
       "      <td>0.323</td>\n",
       "      <td>9</td>\n",
       "      <td>...</td>\n",
       "      <td>Snow On The Beach (feat. Lana Del Rey)</td>\n",
       "      <td>NaN</td>\n",
       "      <td>4</td>\n",
       "      <td>track</td>\n",
       "      <td>spotify:track:6ADDIJxxqzM9LMpm78yzQG</td>\n",
       "      <td>https://open.spotify.com/track/6ADDIJxxqzM9LMp...</td>\n",
       "      <td>Midnights (3am Edition)</td>\n",
       "      <td>A</td>\n",
       "      <td>major</td>\n",
       "      <td>A major</td>\n",
       "    </tr>\n",
       "    <tr>\n",
       "      <th>4</th>\n",
       "      <td>Taylor Swift</td>\n",
       "      <td>06HL4z0CvFAxyc27GXpf02</td>\n",
       "      <td>3lS1y25WAhcqJDATJK70Mq</td>\n",
       "      <td>album</td>\n",
       "      <td>2022-10-22</td>\n",
       "      <td>2022</td>\n",
       "      <td>day</td>\n",
       "      <td>0.694</td>\n",
       "      <td>0.380</td>\n",
       "      <td>2</td>\n",
       "      <td>...</td>\n",
       "      <td>You're On Your Own, Kid</td>\n",
       "      <td>NaN</td>\n",
       "      <td>5</td>\n",
       "      <td>track</td>\n",
       "      <td>spotify:track:7gVWKBcfIW93YxNBi3ApIE</td>\n",
       "      <td>https://open.spotify.com/track/7gVWKBcfIW93YxN...</td>\n",
       "      <td>Midnights (3am Edition)</td>\n",
       "      <td>D</td>\n",
       "      <td>major</td>\n",
       "      <td>D major</td>\n",
       "    </tr>\n",
       "    <tr>\n",
       "      <th>...</th>\n",
       "      <td>...</td>\n",
       "      <td>...</td>\n",
       "      <td>...</td>\n",
       "      <td>...</td>\n",
       "      <td>...</td>\n",
       "      <td>...</td>\n",
       "      <td>...</td>\n",
       "      <td>...</td>\n",
       "      <td>...</td>\n",
       "      <td>...</td>\n",
       "      <td>...</td>\n",
       "      <td>...</td>\n",
       "      <td>...</td>\n",
       "      <td>...</td>\n",
       "      <td>...</td>\n",
       "      <td>...</td>\n",
       "      <td>...</td>\n",
       "      <td>...</td>\n",
       "      <td>...</td>\n",
       "      <td>...</td>\n",
       "      <td>...</td>\n",
       "    </tr>\n",
       "    <tr>\n",
       "      <th>1260</th>\n",
       "      <td>Taylor Swift</td>\n",
       "      <td>06HL4z0CvFAxyc27GXpf02</td>\n",
       "      <td>1ymIvQpnPQBj1lGlJRqrFQ</td>\n",
       "      <td>album</td>\n",
       "      <td>2006-10-24</td>\n",
       "      <td>2006</td>\n",
       "      <td>day</td>\n",
       "      <td>0.475</td>\n",
       "      <td>0.529</td>\n",
       "      <td>2</td>\n",
       "      <td>...</td>\n",
       "      <td>Mary's Song (Oh My My My) - Instrumental w/ BG...</td>\n",
       "      <td>NaN</td>\n",
       "      <td>10</td>\n",
       "      <td>track</td>\n",
       "      <td>spotify:track:5YluKOG2VGcJMO8XVMpg9h</td>\n",
       "      <td>https://open.spotify.com/track/5YluKOG2VGcJMO8...</td>\n",
       "      <td>Taylor Swift Karaoke</td>\n",
       "      <td>D</td>\n",
       "      <td>major</td>\n",
       "      <td>D major</td>\n",
       "    </tr>\n",
       "    <tr>\n",
       "      <th>1261</th>\n",
       "      <td>Taylor Swift</td>\n",
       "      <td>06HL4z0CvFAxyc27GXpf02</td>\n",
       "      <td>1ymIvQpnPQBj1lGlJRqrFQ</td>\n",
       "      <td>album</td>\n",
       "      <td>2006-10-24</td>\n",
       "      <td>2006</td>\n",
       "      <td>day</td>\n",
       "      <td>0.528</td>\n",
       "      <td>0.484</td>\n",
       "      <td>2</td>\n",
       "      <td>...</td>\n",
       "      <td>Our Song - Instrumental w/ BG vocals</td>\n",
       "      <td>NaN</td>\n",
       "      <td>11</td>\n",
       "      <td>track</td>\n",
       "      <td>spotify:track:0PHdWHKV69ZNQyfYLBlVAT</td>\n",
       "      <td>https://open.spotify.com/track/0PHdWHKV69ZNQyf...</td>\n",
       "      <td>Taylor Swift Karaoke</td>\n",
       "      <td>D</td>\n",
       "      <td>major</td>\n",
       "      <td>D major</td>\n",
       "    </tr>\n",
       "    <tr>\n",
       "      <th>1262</th>\n",
       "      <td>Taylor Swift</td>\n",
       "      <td>06HL4z0CvFAxyc27GXpf02</td>\n",
       "      <td>1ymIvQpnPQBj1lGlJRqrFQ</td>\n",
       "      <td>album</td>\n",
       "      <td>2006-10-24</td>\n",
       "      <td>2006</td>\n",
       "      <td>day</td>\n",
       "      <td>0.541</td>\n",
       "      <td>0.796</td>\n",
       "      <td>8</td>\n",
       "      <td>...</td>\n",
       "      <td>I'm Only Me When I'm With You - Instrumental w...</td>\n",
       "      <td>NaN</td>\n",
       "      <td>12</td>\n",
       "      <td>track</td>\n",
       "      <td>spotify:track:4Vg8MqpDQFDfKmXdpO1jD3</td>\n",
       "      <td>https://open.spotify.com/track/4Vg8MqpDQFDfKmX...</td>\n",
       "      <td>Taylor Swift Karaoke</td>\n",
       "      <td>G#</td>\n",
       "      <td>major</td>\n",
       "      <td>G# major</td>\n",
       "    </tr>\n",
       "    <tr>\n",
       "      <th>1263</th>\n",
       "      <td>Taylor Swift</td>\n",
       "      <td>06HL4z0CvFAxyc27GXpf02</td>\n",
       "      <td>1ymIvQpnPQBj1lGlJRqrFQ</td>\n",
       "      <td>album</td>\n",
       "      <td>2006-10-24</td>\n",
       "      <td>2006</td>\n",
       "      <td>day</td>\n",
       "      <td>0.575</td>\n",
       "      <td>0.279</td>\n",
       "      <td>7</td>\n",
       "      <td>...</td>\n",
       "      <td>Invisible - Instrumental w/ BG vocals</td>\n",
       "      <td>NaN</td>\n",
       "      <td>13</td>\n",
       "      <td>track</td>\n",
       "      <td>spotify:track:7Fg8MxumrT8axFZVzN1MtT</td>\n",
       "      <td>https://open.spotify.com/track/7Fg8MxumrT8axFZ...</td>\n",
       "      <td>Taylor Swift Karaoke</td>\n",
       "      <td>G</td>\n",
       "      <td>major</td>\n",
       "      <td>G major</td>\n",
       "    </tr>\n",
       "    <tr>\n",
       "      <th>1264</th>\n",
       "      <td>Taylor Swift</td>\n",
       "      <td>06HL4z0CvFAxyc27GXpf02</td>\n",
       "      <td>1ymIvQpnPQBj1lGlJRqrFQ</td>\n",
       "      <td>album</td>\n",
       "      <td>2006-10-24</td>\n",
       "      <td>2006</td>\n",
       "      <td>day</td>\n",
       "      <td>0.468</td>\n",
       "      <td>0.658</td>\n",
       "      <td>4</td>\n",
       "      <td>...</td>\n",
       "      <td>A Perfectly Good Heart - Instrumental w/ BG vo...</td>\n",
       "      <td>NaN</td>\n",
       "      <td>14</td>\n",
       "      <td>track</td>\n",
       "      <td>spotify:track:12QHKhw9K9yJOJ1nKRiBYI</td>\n",
       "      <td>https://open.spotify.com/track/12QHKhw9K9yJOJ1...</td>\n",
       "      <td>Taylor Swift Karaoke</td>\n",
       "      <td>E</td>\n",
       "      <td>major</td>\n",
       "      <td>E major</td>\n",
       "    </tr>\n",
       "  </tbody>\n",
       "</table>\n",
       "<p>1265 rows × 36 columns</p>\n",
       "</div>"
      ],
      "text/plain": [
       "       artist_name               artist_id                album_id album_type  \\\n",
       "0     Taylor Swift  06HL4z0CvFAxyc27GXpf02  3lS1y25WAhcqJDATJK70Mq      album   \n",
       "1     Taylor Swift  06HL4z0CvFAxyc27GXpf02  3lS1y25WAhcqJDATJK70Mq      album   \n",
       "2     Taylor Swift  06HL4z0CvFAxyc27GXpf02  3lS1y25WAhcqJDATJK70Mq      album   \n",
       "3     Taylor Swift  06HL4z0CvFAxyc27GXpf02  3lS1y25WAhcqJDATJK70Mq      album   \n",
       "4     Taylor Swift  06HL4z0CvFAxyc27GXpf02  3lS1y25WAhcqJDATJK70Mq      album   \n",
       "...            ...                     ...                     ...        ...   \n",
       "1260  Taylor Swift  06HL4z0CvFAxyc27GXpf02  1ymIvQpnPQBj1lGlJRqrFQ      album   \n",
       "1261  Taylor Swift  06HL4z0CvFAxyc27GXpf02  1ymIvQpnPQBj1lGlJRqrFQ      album   \n",
       "1262  Taylor Swift  06HL4z0CvFAxyc27GXpf02  1ymIvQpnPQBj1lGlJRqrFQ      album   \n",
       "1263  Taylor Swift  06HL4z0CvFAxyc27GXpf02  1ymIvQpnPQBj1lGlJRqrFQ      album   \n",
       "1264  Taylor Swift  06HL4z0CvFAxyc27GXpf02  1ymIvQpnPQBj1lGlJRqrFQ      album   \n",
       "\n",
       "     album_release_date  album_release_year album_release_date_precision  \\\n",
       "0            2022-10-22                2022                          day   \n",
       "1            2022-10-22                2022                          day   \n",
       "2            2022-10-22                2022                          day   \n",
       "3            2022-10-22                2022                          day   \n",
       "4            2022-10-22                2022                          day   \n",
       "...                 ...                 ...                          ...   \n",
       "1260         2006-10-24                2006                          day   \n",
       "1261         2006-10-24                2006                          day   \n",
       "1262         2006-10-24                2006                          day   \n",
       "1263         2006-10-24                2006                          day   \n",
       "1264         2006-10-24                2006                          day   \n",
       "\n",
       "      danceability  energy  key  ...  \\\n",
       "0            0.735   0.444   10  ...   \n",
       "1            0.658   0.378    7  ...   \n",
       "2            0.638   0.634    4  ...   \n",
       "3            0.659   0.323    9  ...   \n",
       "4            0.694   0.380    2  ...   \n",
       "...            ...     ...  ...  ...   \n",
       "1260         0.475   0.529    2  ...   \n",
       "1261         0.528   0.484    2  ...   \n",
       "1262         0.541   0.796    8  ...   \n",
       "1263         0.575   0.279    7  ...   \n",
       "1264         0.468   0.658    4  ...   \n",
       "\n",
       "                                             track_name  track_preview_url  \\\n",
       "0                                         Lavender Haze                NaN   \n",
       "1                                                Maroon                NaN   \n",
       "2                                             Anti-Hero                NaN   \n",
       "3                Snow On The Beach (feat. Lana Del Rey)                NaN   \n",
       "4                               You're On Your Own, Kid                NaN   \n",
       "...                                                 ...                ...   \n",
       "1260  Mary's Song (Oh My My My) - Instrumental w/ BG...                NaN   \n",
       "1261               Our Song - Instrumental w/ BG vocals                NaN   \n",
       "1262  I'm Only Me When I'm With You - Instrumental w...                NaN   \n",
       "1263              Invisible - Instrumental w/ BG vocals                NaN   \n",
       "1264  A Perfectly Good Heart - Instrumental w/ BG vo...                NaN   \n",
       "\n",
       "      track_number   type                             track_uri  \\\n",
       "0                1  track  spotify:track:4g2c7NoTWAOSYDy44l9nub   \n",
       "1                2  track  spotify:track:199E1RRrVmVTQqBXih5qRC   \n",
       "2                3  track  spotify:track:02Zkkf2zMkwRGQjZ7T4p8f   \n",
       "3                4  track  spotify:track:6ADDIJxxqzM9LMpm78yzQG   \n",
       "4                5  track  spotify:track:7gVWKBcfIW93YxNBi3ApIE   \n",
       "...            ...    ...                                   ...   \n",
       "1260            10  track  spotify:track:5YluKOG2VGcJMO8XVMpg9h   \n",
       "1261            11  track  spotify:track:0PHdWHKV69ZNQyfYLBlVAT   \n",
       "1262            12  track  spotify:track:4Vg8MqpDQFDfKmXdpO1jD3   \n",
       "1263            13  track  spotify:track:7Fg8MxumrT8axFZVzN1MtT   \n",
       "1264            14  track  spotify:track:12QHKhw9K9yJOJ1nKRiBYI   \n",
       "\n",
       "                                  external_urls.spotify  \\\n",
       "0     https://open.spotify.com/track/4g2c7NoTWAOSYDy...   \n",
       "1     https://open.spotify.com/track/199E1RRrVmVTQqB...   \n",
       "2     https://open.spotify.com/track/02Zkkf2zMkwRGQj...   \n",
       "3     https://open.spotify.com/track/6ADDIJxxqzM9LMp...   \n",
       "4     https://open.spotify.com/track/7gVWKBcfIW93YxN...   \n",
       "...                                                 ...   \n",
       "1260  https://open.spotify.com/track/5YluKOG2VGcJMO8...   \n",
       "1261  https://open.spotify.com/track/0PHdWHKV69ZNQyf...   \n",
       "1262  https://open.spotify.com/track/4Vg8MqpDQFDfKmX...   \n",
       "1263  https://open.spotify.com/track/7Fg8MxumrT8axFZ...   \n",
       "1264  https://open.spotify.com/track/12QHKhw9K9yJOJ1...   \n",
       "\n",
       "                   album_name  key_name mode_name  key_mode  \n",
       "0     Midnights (3am Edition)        A#     major  A# major  \n",
       "1     Midnights (3am Edition)         G     major   G major  \n",
       "2     Midnights (3am Edition)         E     major   E major  \n",
       "3     Midnights (3am Edition)         A     major   A major  \n",
       "4     Midnights (3am Edition)         D     major   D major  \n",
       "...                       ...       ...       ...       ...  \n",
       "1260     Taylor Swift Karaoke         D     major   D major  \n",
       "1261     Taylor Swift Karaoke         D     major   D major  \n",
       "1262     Taylor Swift Karaoke        G#     major  G# major  \n",
       "1263     Taylor Swift Karaoke         G     major   G major  \n",
       "1264     Taylor Swift Karaoke         E     major   E major  \n",
       "\n",
       "[1265 rows x 36 columns]"
      ]
     },
     "execution_count": 10,
     "metadata": {},
     "output_type": "execute_result"
    }
   ],
   "source": [
    "df"
   ]
  },
  {
   "cell_type": "markdown",
   "metadata": {},
   "source": [
    "how many columns are in this data table? how many rows (i.e., data points)?"
   ]
  },
  {
   "cell_type": "code",
   "execution_count": 11,
   "metadata": {},
   "outputs": [
    {
     "name": "stdout",
     "output_type": "stream",
     "text": [
      "36\n",
      "1265\n",
      "45540\n"
     ]
    }
   ],
   "source": [
    "print(len(columns))\n",
    "print(len(df))\n",
    "print(36*1265)"
   ]
  },
  {
   "cell_type": "markdown",
   "metadata": {},
   "source": [
    "now, let's move on to generating some descriptive statistics (statistical quantities that describe the dataset)"
   ]
  },
  {
   "cell_type": "code",
   "execution_count": 14,
   "metadata": {},
   "outputs": [
    {
     "data": {
      "text/plain": [
       "230381.6181818182"
      ]
     },
     "execution_count": 14,
     "metadata": {},
     "output_type": "execute_result"
    }
   ],
   "source": [
    "# What is the average length of a Taylor Swift song?\n",
    "np.mean(df['duration_ms'])"
   ]
  },
  {
   "cell_type": "code",
   "execution_count": 16,
   "metadata": {},
   "outputs": [
    {
     "name": "stdout",
     "output_type": "stream",
     "text": [
      "3 mins 50 seconds\n"
     ]
    }
   ],
   "source": [
    "def convert_time(time_ms):\n",
    "    # accepts the time in milliseconds and converts to seconds / minutes / hours\n",
    "    time_sec = time_ms / 1000\n",
    "    time_min = int(time_sec / 60)\n",
    "    time_sec = int(time_sec % 60)\n",
    "    print(time_min,'mins',time_sec,'seconds')\n",
    "    \n",
    "convert_time(np.mean(df['duration_ms']))"
   ]
  },
  {
   "cell_type": "markdown",
   "metadata": {},
   "source": [
    "Often, the purpose of generating descriptive statistics is to see how our dataset compares to another. So, how does our result for the average Taylor Swift song length compare to other modern pop songs? Well, the average in recent years is about... 3 minutes and 50 seconds, too!\n",
    "\n",
    "https://www.vox.com/2014/8/18/6003271/why-are-songs-3-minutes-long"
   ]
  },
  {
   "cell_type": "markdown",
   "metadata": {},
   "source": [
    "How about the tempo, then? the average tempo is 116 bpm\n",
    "\n",
    "https://www.washingtonpost.com/news/to-your-health/wp/2015/10/30/the-mathematical-formula-behind-feel-good-songs/"
   ]
  },
  {
   "cell_type": "code",
   "execution_count": 20,
   "metadata": {},
   "outputs": [
    {
     "data": {
      "text/plain": [
       "120.877"
      ]
     },
     "execution_count": 20,
     "metadata": {},
     "output_type": "execute_result"
    }
   ],
   "source": [
    "np.round(np.mean(df['tempo']),3)"
   ]
  },
  {
   "cell_type": "markdown",
   "metadata": {},
   "source": [
    "what are the top 3 keys that Taylor Swift likes to write in?"
   ]
  },
  {
   "cell_type": "code",
   "execution_count": 32,
   "metadata": {},
   "outputs": [
    {
     "data": {
      "text/plain": [
       "G major     224\n",
       "F major     156\n",
       "C major     151\n",
       "E major     138\n",
       "D major     135\n",
       "F# major     70\n",
       "G# major     64\n",
       "A major      63\n",
       "A# major     50\n",
       "C# major     44\n",
       "C# minor     25\n",
       "A minor      21\n",
       "B minor      20\n",
       "E minor      20\n",
       "D# major     17\n",
       "C minor      12\n",
       "F minor      10\n",
       "B major       9\n",
       "G# minor      8\n",
       "G minor       7\n",
       "D# minor      7\n",
       "A# minor      6\n",
       "F# minor      4\n",
       "D minor       4\n",
       "Name: key_mode, dtype: int64"
      ]
     },
     "execution_count": 32,
     "metadata": {},
     "output_type": "execute_result"
    }
   ],
   "source": [
    "keys = df['key_mode'].value_counts()\n",
    "keys\n",
    "# np.sum(keys[0:3])/np.sum(keys)"
   ]
  },
  {
   "cell_type": "markdown",
   "metadata": {},
   "source": [
    "### Data Cleaning\n",
    "Often, the original / raw dataset that we get from the real world is not exactly what we want to analyze. For example, let's list all of Taylor Swift's albums on Spotify"
   ]
  },
  {
   "cell_type": "code",
   "execution_count": 42,
   "metadata": {},
   "outputs": [
    {
     "data": {
      "text/plain": [
       "array(['Midnights (3am Edition)', 'Midnights', \"Red (Taylor's Version)\",\n",
       "       \"Fearless (Taylor's Version)\", 'evermore (deluxe version)',\n",
       "       'evermore',\n",
       "       'folklore: the long pond studio sessions (from the Disney+ special) [deluxe edition]',\n",
       "       'folklore (deluxe version)', 'folklore', 'Lover',\n",
       "       'Taylor Swift Karaoke: reputation', 'reputation',\n",
       "       'reputation (Big Machine Radio Release Special)',\n",
       "       'reputation Stadium Tour Surprise Song Playlist',\n",
       "       'Taylor Swift Karaoke: 1989 (Deluxe)', '1989',\n",
       "       '1989 (Big Machine Radio Release Special)',\n",
       "       'Taylor Swift Karaoke: 1989 (Deluxe Edition)',\n",
       "       'Taylor Swift Karaoke: 1989', '1989 (Deluxe Edition)',\n",
       "       '1989 (Deluxe)', 'Red (Deluxe Edition)',\n",
       "       'Red (Big Machine Radio Release Special)', 'Red (Karaoke Version)',\n",
       "       'Red', 'Taylor Swift Karaoke: Red', 'Speak Now (Japanese Version)',\n",
       "       'Speak Now World Tour Live', 'Speak Now',\n",
       "       'Speak Now (Big Machine Radio Release Special)',\n",
       "       'Speak Now (Karaoke Version)', 'Taylor Swift Karaoke: Speak Now',\n",
       "       'Speak Now (Deluxe Edition)', 'Speak Now (US Version)',\n",
       "       'Speak Now (Deluxe Package)', 'Fearless',\n",
       "       'Fearless (International Version)',\n",
       "       'Fearless (Big Machine Radio Release Special)',\n",
       "       'Fearless (Karaoke Version)', 'Fearless Karaoke',\n",
       "       'Fearless (Platinum Edition)', 'Fearless Platinum Edition',\n",
       "       'Live From Clear Channel Stripped 2008', 'Taylor Swift',\n",
       "       'Taylor Swift (Big Machine Radio Release Special)',\n",
       "       'Taylor Swift (Karaoke Version)', 'Taylor Swift Karaoke'],\n",
       "      dtype=object)"
      ]
     },
     "execution_count": 42,
     "metadata": {},
     "output_type": "execute_result"
    }
   ],
   "source": [
    "df['album_name'].unique()"
   ]
  },
  {
   "cell_type": "markdown",
   "metadata": {},
   "source": [
    "it seems like there are lots of albums that have several versions. can we clean out this data?\n"
   ]
  },
  {
   "cell_type": "code",
   "execution_count": 51,
   "metadata": {},
   "outputs": [
    {
     "name": "stdout",
     "output_type": "stream",
     "text": [
      "['Midnights' 'evermore' 'folklore' 'Lover' 'reputation'\n",
      " 'reputation Stadium Tour Surprise Song Playlist' '1989' 'Red'\n",
      " 'Speak Now World Tour Live' 'Speak Now' 'Fearless'\n",
      " 'Fearless Platinum Edition' 'Live From Clear Channel Stripped 2008'\n",
      " 'Taylor Swift']\n"
     ]
    }
   ],
   "source": [
    "# create a mask, helps you select which data you want (boolean series)\n",
    "mask = (df['album_name'].str.contains('\\(')) | (df['album_name'].str.contains('Karaoke'))\n",
    "print(df['album_name'][~mask].unique())"
   ]
  },
  {
   "cell_type": "markdown",
   "metadata": {},
   "source": [
    "I am trying to open a club and I need some music to play. What's Taylor Swift's most danceable song?"
   ]
  },
  {
   "cell_type": "code",
   "execution_count": 55,
   "metadata": {},
   "outputs": [
    {
     "data": {
      "text/plain": [
       "370    I Think He Knows\n",
       "Name: track_name, dtype: object"
      ]
     },
     "execution_count": 55,
     "metadata": {},
     "output_type": "execute_result"
    }
   ],
   "source": [
    "max_dance = df['danceability'].max()\n",
    "mask = df['danceability'] == max_dance\n",
    "df[mask]['track_name']"
   ]
  },
  {
   "cell_type": "markdown",
   "metadata": {},
   "source": [
    "great job with this! now, we're going to move on to another example\n",
    "\n",
    "## World Crime Index\n",
    "The world crime index is a way of measuring how dangerous cities are, using a unitless index out of 100. The higher the crime index (and thus the lower the safety index is), the more dangerous the city. Let's start, just like we did with Taylor Swift, by reading in the data."
   ]
  },
  {
   "cell_type": "code",
   "execution_count": 62,
   "metadata": {
    "scrolled": true
   },
   "outputs": [
    {
     "data": {
      "text/html": [
       "<div>\n",
       "<style scoped>\n",
       "    .dataframe tbody tr th:only-of-type {\n",
       "        vertical-align: middle;\n",
       "    }\n",
       "\n",
       "    .dataframe tbody tr th {\n",
       "        vertical-align: top;\n",
       "    }\n",
       "\n",
       "    .dataframe thead th {\n",
       "        text-align: right;\n",
       "    }\n",
       "</style>\n",
       "<table border=\"1\" class=\"dataframe\">\n",
       "  <thead>\n",
       "    <tr style=\"text-align: right;\">\n",
       "      <th></th>\n",
       "      <th>Rank</th>\n",
       "      <th>City</th>\n",
       "      <th>Crime Index</th>\n",
       "      <th>Safety Index</th>\n",
       "    </tr>\n",
       "  </thead>\n",
       "  <tbody>\n",
       "    <tr>\n",
       "      <th>0</th>\n",
       "      <td>1</td>\n",
       "      <td>Caracas, Venezuela</td>\n",
       "      <td>83.98</td>\n",
       "      <td>16.02</td>\n",
       "    </tr>\n",
       "    <tr>\n",
       "      <th>1</th>\n",
       "      <td>2</td>\n",
       "      <td>Pretoria, South Africa</td>\n",
       "      <td>81.98</td>\n",
       "      <td>18.02</td>\n",
       "    </tr>\n",
       "    <tr>\n",
       "      <th>2</th>\n",
       "      <td>3</td>\n",
       "      <td>Celaya, Mexico</td>\n",
       "      <td>81.80</td>\n",
       "      <td>18.20</td>\n",
       "    </tr>\n",
       "    <tr>\n",
       "      <th>3</th>\n",
       "      <td>4</td>\n",
       "      <td>San Pedro Sula, Honduras</td>\n",
       "      <td>80.87</td>\n",
       "      <td>19.13</td>\n",
       "    </tr>\n",
       "    <tr>\n",
       "      <th>4</th>\n",
       "      <td>5</td>\n",
       "      <td>Port Moresby, Papua New Guinea</td>\n",
       "      <td>80.71</td>\n",
       "      <td>19.29</td>\n",
       "    </tr>\n",
       "    <tr>\n",
       "      <th>5</th>\n",
       "      <td>6</td>\n",
       "      <td>Durban, South Africa</td>\n",
       "      <td>80.60</td>\n",
       "      <td>19.40</td>\n",
       "    </tr>\n",
       "    <tr>\n",
       "      <th>6</th>\n",
       "      <td>7</td>\n",
       "      <td>Johannesburg, South Africa</td>\n",
       "      <td>80.55</td>\n",
       "      <td>19.45</td>\n",
       "    </tr>\n",
       "    <tr>\n",
       "      <th>7</th>\n",
       "      <td>8</td>\n",
       "      <td>Kabul, Afghanistan</td>\n",
       "      <td>79.39</td>\n",
       "      <td>20.61</td>\n",
       "    </tr>\n",
       "    <tr>\n",
       "      <th>8</th>\n",
       "      <td>9</td>\n",
       "      <td>Rio de Janeiro, Brazil</td>\n",
       "      <td>77.93</td>\n",
       "      <td>22.07</td>\n",
       "    </tr>\n",
       "    <tr>\n",
       "      <th>9</th>\n",
       "      <td>10</td>\n",
       "      <td>Natal, Brazil</td>\n",
       "      <td>77.69</td>\n",
       "      <td>22.31</td>\n",
       "    </tr>\n",
       "    <tr>\n",
       "      <th>10</th>\n",
       "      <td>11</td>\n",
       "      <td>Fortaleza, Brazil</td>\n",
       "      <td>77.36</td>\n",
       "      <td>22.64</td>\n",
       "    </tr>\n",
       "    <tr>\n",
       "      <th>11</th>\n",
       "      <td>12</td>\n",
       "      <td>Port Elizabeth, South Africa</td>\n",
       "      <td>76.44</td>\n",
       "      <td>23.56</td>\n",
       "    </tr>\n",
       "    <tr>\n",
       "      <th>12</th>\n",
       "      <td>13</td>\n",
       "      <td>Recife, Brazil</td>\n",
       "      <td>76.42</td>\n",
       "      <td>23.58</td>\n",
       "    </tr>\n",
       "    <tr>\n",
       "      <th>13</th>\n",
       "      <td>14</td>\n",
       "      <td>Port of Spain, Trinidad And Tobago</td>\n",
       "      <td>76.21</td>\n",
       "      <td>23.79</td>\n",
       "    </tr>\n",
       "    <tr>\n",
       "      <th>14</th>\n",
       "      <td>15</td>\n",
       "      <td>Baltimore, MD, United States</td>\n",
       "      <td>75.75</td>\n",
       "      <td>24.25</td>\n",
       "    </tr>\n",
       "    <tr>\n",
       "      <th>15</th>\n",
       "      <td>16</td>\n",
       "      <td>Salvador, Brazil</td>\n",
       "      <td>75.69</td>\n",
       "      <td>24.31</td>\n",
       "    </tr>\n",
       "    <tr>\n",
       "      <th>16</th>\n",
       "      <td>17</td>\n",
       "      <td>Rosario, Argentina</td>\n",
       "      <td>75.11</td>\n",
       "      <td>24.89</td>\n",
       "    </tr>\n",
       "    <tr>\n",
       "      <th>17</th>\n",
       "      <td>18</td>\n",
       "      <td>Memphis, TN, United States</td>\n",
       "      <td>74.76</td>\n",
       "      <td>25.24</td>\n",
       "    </tr>\n",
       "    <tr>\n",
       "      <th>18</th>\n",
       "      <td>19</td>\n",
       "      <td>Detroit, MI, United States</td>\n",
       "      <td>74.63</td>\n",
       "      <td>25.37</td>\n",
       "    </tr>\n",
       "    <tr>\n",
       "      <th>19</th>\n",
       "      <td>20</td>\n",
       "      <td>Rockhampton, Australia</td>\n",
       "      <td>73.51</td>\n",
       "      <td>26.49</td>\n",
       "    </tr>\n",
       "  </tbody>\n",
       "</table>\n",
       "</div>"
      ],
      "text/plain": [
       "    Rank                                City  Crime Index  Safety Index\n",
       "0      1                  Caracas, Venezuela        83.98         16.02\n",
       "1      2              Pretoria, South Africa        81.98         18.02\n",
       "2      3                      Celaya, Mexico        81.80         18.20\n",
       "3      4            San Pedro Sula, Honduras        80.87         19.13\n",
       "4      5      Port Moresby, Papua New Guinea        80.71         19.29\n",
       "5      6                Durban, South Africa        80.60         19.40\n",
       "6      7          Johannesburg, South Africa        80.55         19.45\n",
       "7      8                  Kabul, Afghanistan        79.39         20.61\n",
       "8      9              Rio de Janeiro, Brazil        77.93         22.07\n",
       "9     10                       Natal, Brazil        77.69         22.31\n",
       "10    11                   Fortaleza, Brazil        77.36         22.64\n",
       "11    12        Port Elizabeth, South Africa        76.44         23.56\n",
       "12    13                      Recife, Brazil        76.42         23.58\n",
       "13    14  Port of Spain, Trinidad And Tobago        76.21         23.79\n",
       "14    15        Baltimore, MD, United States        75.75         24.25\n",
       "15    16                    Salvador, Brazil        75.69         24.31\n",
       "16    17                  Rosario, Argentina        75.11         24.89\n",
       "17    18          Memphis, TN, United States        74.76         25.24\n",
       "18    19          Detroit, MI, United States        74.63         25.37\n",
       "19    20              Rockhampton, Australia        73.51         26.49"
      ]
     },
     "execution_count": 62,
     "metadata": {},
     "output_type": "execute_result"
    }
   ],
   "source": [
    "# https://www.kaggle.com/datasets/ahmadjalalmasood123/world-crime-index\n",
    "\n",
    "df = pd.read_csv('world_crime_index.csv')\n",
    "df.head(20)"
   ]
  },
  {
   "cell_type": "markdown",
   "metadata": {},
   "source": [
    "It looks like we have 453 cities in our database, and it's already sorted by most dangerous (descending). Can we find out which country has the safest cities? We'll have to make a new column in our data frame, since \"City\" includes both the city and the country."
   ]
  },
  {
   "cell_type": "code",
   "execution_count": 59,
   "metadata": {},
   "outputs": [
    {
     "data": {
      "text/plain": [
       "'Venezuela'"
      ]
     },
     "execution_count": 59,
     "metadata": {},
     "output_type": "execute_result"
    }
   ],
   "source": [
    "df['City'][0].split(', ')[1]"
   ]
  },
  {
   "cell_type": "code",
   "execution_count": 61,
   "metadata": {
    "scrolled": true
   },
   "outputs": [
    {
     "data": {
      "text/plain": [
       "array(['Venezuela', 'South Africa', 'Mexico', 'Honduras',\n",
       "       'Papua New Guinea', 'Afghanistan', 'Brazil', 'Trinidad And Tobago',\n",
       "       'MD', 'Argentina', 'TN', 'MI', 'Australia', 'Jamaica',\n",
       "       'United Kingdom', 'NM', 'Peru', 'Ecuador', 'MO', 'El Salvador',\n",
       "       'Colombia', 'Namibia', 'Puerto Rico', 'Dominican Republic',\n",
       "       'Syria', 'Angola', 'LA', 'WI', 'CA', 'Nigeria', 'IL', 'France',\n",
       "       'Philippines', 'Canada', 'OH', 'TX', 'Kazakhstan', 'Maldives',\n",
       "       'AB', 'Bangladesh', 'PA', 'Italy', 'Malaysia', 'GA', 'Guatemala',\n",
       "       'Libya', 'AK', 'Zimbabwe', 'Romania', 'Tanzania', 'India', 'Chile',\n",
       "       'DC', 'Iraq', 'Kenya', 'Belarus', 'IN', 'Belgium', 'FL', 'Sweden',\n",
       "       'Greece', 'KY', 'Iran', 'Botswana', 'Morocco', 'Costa Rica',\n",
       "       'Mongolia', 'MN', 'WA', 'NV', 'Uruguay', 'Spain', 'Pakistan',\n",
       "       'Algeria', 'Vietnam', 'Cambodia', 'Indonesia', 'Ukraine',\n",
       "       'Portugal', 'Ireland', 'OR', 'Russia', 'AZ', 'Egypt', 'Paraguay',\n",
       "       'BC', 'NY', 'VA', 'Turkey', 'Montenegro', 'Panama', 'Ethiopia',\n",
       "       'Tunisia', 'Newfoundland and Labrador', 'Ghana', 'NE',\n",
       "       'North Macedonia', 'New Zealand', 'Lebanon', 'Thailand', 'HI',\n",
       "       'NC', 'Bosnia And Herzegovina', 'CO', 'Moldova', 'Albania',\n",
       "       'Germany', 'Norway', 'Bulgaria', 'Poland', 'Serbia', 'Sri Lanka',\n",
       "       'MA', 'Jordan', 'Latvia', 'Lithuania', 'Nepal', 'Finland', 'China',\n",
       "       'Israel', 'Netherlands', 'ID', 'Hungary', 'Uzbekistan', 'Croatia',\n",
       "       'UT', 'Japan', 'Cyprus', 'Cuba', 'Kuwait', 'Azerbaijan',\n",
       "       'Saudi Arabia', 'Luxembourg', 'Slovakia', 'Austria', 'Singapore',\n",
       "       'Denmark', 'Switzerland', 'Czech Republic', 'South Korea',\n",
       "       'Georgia', 'Rwanda', 'Estonia', 'Iceland', 'Armenia', 'Hong Kong',\n",
       "       'Slovenia', 'Bahrain', 'Oman', 'United Arab Emirates', 'Taiwan',\n",
       "       'Qatar'], dtype=object)"
      ]
     },
     "execution_count": 61,
     "metadata": {},
     "output_type": "execute_result"
    }
   ],
   "source": [
    "# add in the country data\n",
    "df['Country'] = [x.split(', ')[1] for x in df['City']] # list comprehension\n",
    "countries = df['Country']\n",
    "countries.unique()"
   ]
  },
  {
   "cell_type": "markdown",
   "metadata": {},
   "source": [
    "uh oh! it seems like our method split the USA into states, which we did not want. how can we consider the whole USA all at once?"
   ]
  },
  {
   "cell_type": "code",
   "execution_count": 66,
   "metadata": {},
   "outputs": [
    {
     "data": {
      "text/plain": [
       "array(['Venezuela', 'South Africa', 'Mexico', 'Honduras',\n",
       "       'Papua New Guinea', 'Afghanistan', 'Brazil', 'Trinidad And Tobago',\n",
       "       'United States', 'Argentina', 'Australia', 'Jamaica',\n",
       "       'United Kingdom', 'Peru', 'Ecuador', 'El Salvador', 'Colombia',\n",
       "       'Namibia', 'Puerto Rico', 'Dominican Republic', 'Syria', 'Angola',\n",
       "       'Nigeria', 'France', 'Philippines', 'Canada', 'Kazakhstan',\n",
       "       'Maldives', 'Bangladesh', 'Italy', 'Malaysia', 'Guatemala',\n",
       "       'Libya', 'Zimbabwe', 'Romania', 'Tanzania', 'India', 'Chile',\n",
       "       'Iraq', 'Kenya', 'Belarus', 'Belgium', 'Sweden', 'Greece', 'Iran',\n",
       "       'Botswana', 'Morocco', 'Costa Rica', 'Mongolia', 'Uruguay',\n",
       "       'Spain', 'Pakistan', 'Algeria', 'Vietnam', 'Cambodia', 'Indonesia',\n",
       "       'Ukraine', 'Portugal', 'Ireland', 'Russia', 'Egypt', 'Paraguay',\n",
       "       'Turkey', 'Montenegro', 'Panama', 'Ethiopia', 'Tunisia', 'Ghana',\n",
       "       'North Macedonia', 'New Zealand', 'Lebanon', 'Thailand',\n",
       "       'Bosnia And Herzegovina', 'Moldova', 'Albania', 'Germany',\n",
       "       'Norway', 'Bulgaria', 'Poland', 'Serbia', 'Sri Lanka', 'Jordan',\n",
       "       'Latvia', 'Lithuania', 'Nepal', 'Finland', 'China', 'Israel',\n",
       "       'Netherlands', 'Hungary', 'Uzbekistan', 'Croatia', 'Japan',\n",
       "       'Cyprus', 'Cuba', 'Kuwait', 'Azerbaijan', 'Saudi Arabia',\n",
       "       'Luxembourg', 'Slovakia', 'Austria', 'Singapore', 'Denmark',\n",
       "       'Switzerland', 'Czech Republic', 'South Korea', 'Georgia',\n",
       "       'Rwanda', 'Estonia', 'Iceland', 'Armenia', 'Hong Kong', 'Slovenia',\n",
       "       'Bahrain', 'Oman', 'United Arab Emirates', 'Taiwan', 'Qatar'],\n",
       "      dtype=object)"
      ]
     },
     "execution_count": 66,
     "metadata": {},
     "output_type": "execute_result"
    }
   ],
   "source": [
    "# add in the country data\n",
    "df['Country'] = [x.split(', ')[-1] for x in df['City']] # list comprehension\n",
    "countries = df['Country']\n",
    "countries = countries.unique()\n",
    "countries"
   ]
  },
  {
   "cell_type": "code",
   "execution_count": 68,
   "metadata": {},
   "outputs": [],
   "source": [
    "country_avg_safety = np.zeros(len(countries))\n",
    "for i in range(len(countries)):\n",
    "    # let's say we're on Cuba. it will mask and only show Cuba cities\n",
    "    mask = df['Country'] == countries[i] \n",
    "    # compute the mean of the masked data\n",
    "    country_avg_safety[i] = df[mask]['Safety Index'].mean()"
   ]
  },
  {
   "cell_type": "code",
   "execution_count": 70,
   "metadata": {},
   "outputs": [
    {
     "data": {
      "text/html": [
       "<div>\n",
       "<style scoped>\n",
       "    .dataframe tbody tr th:only-of-type {\n",
       "        vertical-align: middle;\n",
       "    }\n",
       "\n",
       "    .dataframe tbody tr th {\n",
       "        vertical-align: top;\n",
       "    }\n",
       "\n",
       "    .dataframe thead th {\n",
       "        text-align: right;\n",
       "    }\n",
       "</style>\n",
       "<table border=\"1\" class=\"dataframe\">\n",
       "  <thead>\n",
       "    <tr style=\"text-align: right;\">\n",
       "      <th></th>\n",
       "      <th>Country</th>\n",
       "      <th>Average Safety</th>\n",
       "    </tr>\n",
       "  </thead>\n",
       "  <tbody>\n",
       "    <tr>\n",
       "      <th>117</th>\n",
       "      <td>Qatar</td>\n",
       "      <td>86.040000</td>\n",
       "    </tr>\n",
       "    <tr>\n",
       "      <th>115</th>\n",
       "      <td>United Arab Emirates</td>\n",
       "      <td>85.175000</td>\n",
       "    </tr>\n",
       "    <tr>\n",
       "      <th>116</th>\n",
       "      <td>Taiwan</td>\n",
       "      <td>84.950000</td>\n",
       "    </tr>\n",
       "    <tr>\n",
       "      <th>114</th>\n",
       "      <td>Oman</td>\n",
       "      <td>79.460000</td>\n",
       "    </tr>\n",
       "    <tr>\n",
       "      <th>113</th>\n",
       "      <td>Bahrain</td>\n",
       "      <td>78.940000</td>\n",
       "    </tr>\n",
       "    <tr>\n",
       "      <th>...</th>\n",
       "      <td>...</td>\n",
       "      <td>...</td>\n",
       "    </tr>\n",
       "    <tr>\n",
       "      <th>1</th>\n",
       "      <td>South Africa</td>\n",
       "      <td>22.663333</td>\n",
       "    </tr>\n",
       "    <tr>\n",
       "      <th>5</th>\n",
       "      <td>Afghanistan</td>\n",
       "      <td>20.610000</td>\n",
       "    </tr>\n",
       "    <tr>\n",
       "      <th>4</th>\n",
       "      <td>Papua New Guinea</td>\n",
       "      <td>19.290000</td>\n",
       "    </tr>\n",
       "    <tr>\n",
       "      <th>3</th>\n",
       "      <td>Honduras</td>\n",
       "      <td>19.130000</td>\n",
       "    </tr>\n",
       "    <tr>\n",
       "      <th>0</th>\n",
       "      <td>Venezuela</td>\n",
       "      <td>16.020000</td>\n",
       "    </tr>\n",
       "  </tbody>\n",
       "</table>\n",
       "<p>118 rows × 2 columns</p>\n",
       "</div>"
      ],
      "text/plain": [
       "                  Country  Average Safety\n",
       "117                 Qatar       86.040000\n",
       "115  United Arab Emirates       85.175000\n",
       "116                Taiwan       84.950000\n",
       "114                  Oman       79.460000\n",
       "113               Bahrain       78.940000\n",
       "..                    ...             ...\n",
       "1            South Africa       22.663333\n",
       "5             Afghanistan       20.610000\n",
       "4        Papua New Guinea       19.290000\n",
       "3                Honduras       19.130000\n",
       "0               Venezuela       16.020000\n",
       "\n",
       "[118 rows x 2 columns]"
      ]
     },
     "execution_count": 70,
     "metadata": {},
     "output_type": "execute_result"
    }
   ],
   "source": [
    "df = pd.DataFrame({'Country': countries, 'Average Safety': country_avg_safety})\n",
    "df.sort_values('Average Safety', ascending = False)"
   ]
  },
  {
   "cell_type": "markdown",
   "metadata": {},
   "source": [
    "based on this data, it seems like Qatar has the safest streets!\n",
    "\n",
    "limitations:\n",
    "* criminal statutes differ across countries\n",
    "* not all cities included\n",
    "* soft crime like harrassment would not be considered\n",
    "\n",
    "note: it's always important to consider the limitations of your dataset as a data scientist"
   ]
  }
 ],
 "metadata": {
  "kernelspec": {
   "display_name": "Python 3 (ipykernel)",
   "language": "python",
   "name": "python3"
  },
  "language_info": {
   "codemirror_mode": {
    "name": "ipython",
    "version": 3
   },
   "file_extension": ".py",
   "mimetype": "text/x-python",
   "name": "python",
   "nbconvert_exporter": "python",
   "pygments_lexer": "ipython3",
   "version": "3.9.12"
  },
  "vscode": {
   "interpreter": {
    "hash": "40d3a090f54c6569ab1632332b64b2c03c39dcf918b08424e98f38b5ae0af88f"
   }
  }
 },
 "nbformat": 4,
 "nbformat_minor": 2
}
