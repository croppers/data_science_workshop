{
 "cells": [
  {
   "cell_type": "markdown",
   "metadata": {},
   "source": [
    "# Welcome to Correlation!\n",
    "In this notebook, we will explore the concept of correlation through a real-world dataset. We'll learn how to perform a simple linear regression and test our dataset to see how it aligns with the assumptions underlying this statistical technique. Finally, we'll also talk about \"spurious correlations,\" which is something that you need to watch out for as a data scientist!"
   ]
  },
  {
   "cell_type": "code",
   "execution_count": 22,
   "metadata": {},
   "outputs": [],
   "source": [
    "from matplotlib import pyplot as plt\n",
    "import numpy as np\n",
    "import pandas as pd\n",
    "from scipy.stats import linregress"
   ]
  },
  {
   "cell_type": "markdown",
   "metadata": {},
   "source": [
    "let's go back to the city dataset we analyzed earlier"
   ]
  },
  {
   "cell_type": "code",
   "execution_count": 9,
   "metadata": {},
   "outputs": [],
   "source": [
    "dict = {\n",
    "    \"state\": [\"Alabama\",\"Alaska\",\"Arizona\",\"Arkansas\",\"California\",\"Colorado\",\n",
    "        \"Connecticut\",\"Delaware\",\"Florida\",\"Georgia\",\"Hawaii\",\"Idaho\",\"Illinois\",\n",
    "        \"Indiana\",\"Iowa\",\"Kansas\",\"Kentucky\",\"Louisiana\",\"Maine\",\"Maryland\",\n",
    "        \"Massachusetts\",\"Michigan\",\"Minnesota\",\"Mississippi\",\"Missouri\",\"Montana\",\n",
    "        \"Nebraska\",\"Nevada\",\"New Hampshire\",\"New Jersey\",\"New Mexico\",\"New York\",\n",
    "        \"North Carolina\",\"North Dakota\",\"Ohio\",\"Oklahoma\",\"Oregon\",\"Pennsylvania\",\n",
    "        \"Rhode Island\",\"South Carolina\",\"South Dakota\",\"Tennessee\",\"Texas\",\"Utah\",\n",
    "        \"Vermont\",\"Virginia\",\"Washington\",\"West Virginia\",\"Wisconsin\",\"Wyoming\"],\n",
    "    \"capital\": [\"Montgomery\", \"Juneau\", \"Phoenix\", \"Little Rock\", \"Sacramento\", \"Denver\",\n",
    "        \"Hartford\", \"Dover\", \"Tallahassee\", \"Atlanta\", \"Honolulu\", \"Boise\", \"Springfield\",\n",
    "        \"Indianapolis\", \"Des Moines\", \"Topeka\", \"Frankfort\", \"Baton Rouge\", \"Augusta\", \"Annapolis\",\n",
    "        \"Boston\", \"Lansing\", \"Saint Paul\", \"Jackson\", \"Jefferson City\", \"Helena\",\n",
    "        \"Lincoln\", \"Carson City\", \"Concord\", \"Trenton\", \"Santa Fe\", \"Albany\",\n",
    "        \"Raleigh\", \"Bismarck\", \"Columbus\", \"Oklahoma City\", \"Salem\", \"Harrisburg\",\n",
    "        \"Providence\", \"Columbia\", \"Pierre\", \"Nashville\", \"Austin\", \"Salt Lake City\",\n",
    "        \"Montpelier\", \"Richmond\", \"Olympia\", \"Charleston\", \"Madison\", \"Cheyenne\"],\n",
    "    \"area\": [159.8, 2716.7, 517.6, 116.2, 97.9, 153.3, 17.3, 22.4, 95.7, \n",
    "        133.5, 68.4, 63.8, 54.0, 361.5, 75.8, 56.0, 14.7, 76.8, 55.4, 6.73,\n",
    "        89.6, 35.0, 52.8, 104.9, 27.3, 14.0, 74.6, 143.4, 64.3, 7.66, 37.3, \n",
    "        21.4, 114.6, 26.9, 210.3, 620.3, 45.7, 8.11, 18.5, 125.2, 13.0, \n",
    "        525.9, 305.1, 109.1, 10.2, 60.1, 16.7, 31.6, 68.7, 21.1],\n",
    "    \"population\": [200, 31, 1660, 194, 509, 716, 125, 36, 181, 498, 360, \n",
    "        206, 116, 867, 203, 127, 26, 225, 19, 38, 694, 114, 285, 174, 43,\n",
    "        28, 258, 55, 43, 85, 76, 98, 404, 61, 893, 649, 155, 50, 178, 129,\n",
    "        14, 691, 964, 186, 8, 204, 46, 51, 233, 59]\n",
    "}\n",
    "capital_data = pd.DataFrame(dict)"
   ]
  },
  {
   "cell_type": "markdown",
   "metadata": {},
   "source": [
    "is there a correlation between US State Capital area and population?"
   ]
  },
  {
   "cell_type": "code",
   "execution_count": 12,
   "metadata": {},
   "outputs": [
    {
     "name": "stdout",
     "output_type": "stream",
     "text": [
      "0.029262449081312248\n"
     ]
    }
   ],
   "source": [
    "slope, intercept, r, p, se = linregress(capital_data['population'], capital_data['area'])\n",
    "print(r**2)"
   ]
  },
  {
   "cell_type": "markdown",
   "metadata": {},
   "source": [
    "at first glance, it doesn't seem like it. our r-squared value is just about 0.03, indicating an extremely weak / insignificant relationship. but let's visualize the data just to make sure..."
   ]
  },
  {
   "cell_type": "code",
   "execution_count": 13,
   "metadata": {},
   "outputs": [
    {
     "data": {
      "text/plain": [
       "<matplotlib.collections.PathCollection at 0x186be5130>"
      ]
     },
     "execution_count": 13,
     "metadata": {},
     "output_type": "execute_result"
    },
    {
     "data": {
      "image/png": "[encoded data removed]",
      "text/plain": [
       "<Figure size 432x288 with 1 Axes>"
      ]
     },
     "metadata": {
      "needs_background": "light"
     },
     "output_type": "display_data"
    }
   ],
   "source": [
    "plt.scatter(capital_data['population'], capital_data['area'])"
   ]
  },
  {
   "cell_type": "markdown",
   "metadata": {},
   "source": [
    "wow! it looks like we have a spurious point, where the state capital is almost 3000 square miles in area. let's try to spot this in our data frame"
   ]
  },
  {
   "cell_type": "code",
   "execution_count": 14,
   "metadata": {},
   "outputs": [
    {
     "data": {
      "text/html": [
       "<div>\n",
       "<style scoped>\n",
       "    .dataframe tbody tr th:only-of-type {\n",
       "        vertical-align: middle;\n",
       "    }\n",
       "\n",
       "    .dataframe tbody tr th {\n",
       "        vertical-align: top;\n",
       "    }\n",
       "\n",
       "    .dataframe thead th {\n",
       "        text-align: right;\n",
       "    }\n",
       "</style>\n",
       "<table border=\"1\" class=\"dataframe\">\n",
       "  <thead>\n",
       "    <tr style=\"text-align: right;\">\n",
       "      <th></th>\n",
       "      <th>state</th>\n",
       "      <th>capital</th>\n",
       "      <th>area</th>\n",
       "      <th>population</th>\n",
       "    </tr>\n",
       "  </thead>\n",
       "  <tbody>\n",
       "    <tr>\n",
       "      <th>1</th>\n",
       "      <td>Alaska</td>\n",
       "      <td>Juneau</td>\n",
       "      <td>2716.7</td>\n",
       "      <td>31</td>\n",
       "    </tr>\n",
       "  </tbody>\n",
       "</table>\n",
       "</div>"
      ],
      "text/plain": [
       "    state capital    area  population\n",
       "1  Alaska  Juneau  2716.7          31"
      ]
     },
     "execution_count": 14,
     "metadata": {},
     "output_type": "execute_result"
    }
   ],
   "source": [
    "capital_data[capital_data['area'] > 2000]"
   ]
  },
  {
   "cell_type": "markdown",
   "metadata": {},
   "source": [
    "it seems like if we get rid of this one point, then we might see a relationship. let's investigate and see"
   ]
  },
  {
   "cell_type": "code",
   "execution_count": 18,
   "metadata": {},
   "outputs": [
    {
     "data": {
      "text/plain": [
       "0.6192732565761606"
      ]
     },
     "execution_count": 18,
     "metadata": {},
     "output_type": "execute_result"
    }
   ],
   "source": [
    "capital_data_clean = capital_data.drop(1)\n",
    "slope, intercept, r, p, se = linregress(capital_data_clean['area'], capital_data_clean['population'])\n",
    "r**2"
   ]
  },
  {
   "cell_type": "markdown",
   "metadata": {},
   "source": [
    "sweet! this is a much stronger result--indicating a moderate relationship. is there any way that we can get the average population density of the capitals from our regression? (hint: the units will be people per square area)"
   ]
  },
  {
   "cell_type": "code",
   "execution_count": 25,
   "metadata": {},
   "outputs": [
    {
     "name": "stdout",
     "output_type": "stream",
     "text": [
      "The average US state capital (excluding Juneau) has a population density of 1875.0 people per square mile.\n"
     ]
    }
   ],
   "source": [
    "print('The average US state capital (excluding Juneau) has a population density of',\n",
    "    1000*np.round(slope, 3),\n",
    "    'people per square mile.')"
   ]
  },
  {
   "cell_type": "markdown",
   "metadata": {},
   "source": [
    "Are there cases when we cannot perform a linear regression? **Absolutely**\n",
    "1. if variation is too low in either dimension (not the case for us)\n",
    "2. if the residuals are not normally distributed (we will test this below)\n",
    "3. if the dataset is heteroskedastic (what's that?)\n",
    "4. if the correlation is spurious (check this out: http://www.tylervigen.com/spurious-correlations)\n"
   ]
  },
  {
   "cell_type": "markdown",
   "metadata": {},
   "source": [
    "## testing our residuals\n",
    "to test our residuals, we will generate predictions of the population based on area using our linear regression model. then, we'll subtract the real population values from those predictions."
   ]
  },
  {
   "cell_type": "code",
   "execution_count": 37,
   "metadata": {},
   "outputs": [
    {
     "data": {
      "text/plain": [
       "(array([ 1.,  1.,  1.,  4., 26.,  8.,  3.,  2.,  2.,  1.]),\n",
       " array([-586.90380113, -466.55086723, -346.19793333, -225.84499943,\n",
       "        -105.49206553,   14.86086837,  135.21380227,  255.56673617,\n",
       "         375.91967007,  496.27260397,  616.62553787]),\n",
       " <BarContainer object of 10 artists>)"
      ]
     },
     "execution_count": 37,
     "metadata": {},
     "output_type": "execute_result"
    },
    {
     "data": {
      "image/png": "[encoded data removed]",
      "text/plain": [
       "<Figure size 432x288 with 1 Axes>"
      ]
     },
     "metadata": {
      "needs_background": "light"
     },
     "output_type": "display_data"
    }
   ],
   "source": [
    "# real population values\n",
    "pop = capital_data_clean['population']\n",
    "\n",
    "# real area values\n",
    "area = capital_data_clean['area']\n",
    "\n",
    "# predicted population values\n",
    "pop_pred = slope*area+ intercept\n",
    "\n",
    "# compute the residuals\n",
    "residuals = pop - pop_pred\n",
    "\n",
    "# this looks ok, but not perfectly normal either.\n",
    "# likely, there is more to the story than just a simple linear regression!\n",
    "plt.hist(residuals)"
   ]
  }
 ],
 "metadata": {
  "kernelspec": {
   "display_name": "pangeo_kernel",
   "language": "python",
   "name": "pangeo_kernel"
  },
  "language_info": {
   "codemirror_mode": {
    "name": "ipython",
    "version": 3
   },
   "file_extension": ".py",
   "mimetype": "text/x-python",
   "name": "python",
   "nbconvert_exporter": "python",
   "pygments_lexer": "ipython3",
   "version": "3.9.13"
  },
  "orig_nbformat": 4
 },
 "nbformat": 4,
 "nbformat_minor": 2
}
