{
 "cells": [
  {
   "cell_type": "code",
   "execution_count": 5,
   "metadata": {},
   "outputs": [],
   "source": [
    "import pandas as pd\n",
    "from scipy.stats import linregress"
   ]
  },
  {
   "cell_type": "markdown",
   "metadata": {},
   "source": [
    "let's go back to the city dataset we analyzed earlier. is there a correlation between US State Capital area and population?"
   ]
  },
  {
   "cell_type": "code",
   "execution_count": 3,
   "metadata": {},
   "outputs": [],
   "source": [
    "dict = {\n",
    "    \"state\": [\"Alabama\",\"Alaska\",\"Arizona\",\"Arkansas\",\"California\",\"Colorado\",\n",
    "        \"Connecticut\",\"Delaware\",\"Florida\",\"Georgia\",\"Hawaii\",\"Idaho\",\"Illinois\",\n",
    "        \"Indiana\",\"Iowa\",\"Kansas\",\"Kentucky\",\"Louisiana\",\"Maine\",\"Maryland\",\n",
    "        \"Massachusetts\",\"Michigan\",\"Minnesota\",\"Mississippi\",\"Missouri\",\"Montana\",\n",
    "        \"Nebraska\",\"Nevada\",\"New Hampshire\",\"New Jersey\",\"New Mexico\",\"New York\",\n",
    "        \"North Carolina\",\"North Dakota\",\"Ohio\",\"Oklahoma\",\"Oregon\",\"Pennsylvania\",\n",
    "        \"Rhode Island\",\"South Carolina\",\"South Dakota\",\"Tennessee\",\"Texas\",\"Utah\",\n",
    "        \"Vermont\",\"Virginia\",\"Washington\",\"West Virginia\",\"Wisconsin\",\"Wyoming\"],\n",
    "    \"capital\": [\"Montgomery\", \"Juneau\", \"Phoenix\", \"Little Rock\", \"Sacramento\", \"Denver\",\n",
    "        \"Hartford\", \"Dover\", \"Tallahassee\", \"Atlanta\", \"Honolulu\", \"Boise\", \"Springfield\",\n",
    "        \"Indianapolis\", \"Des Moines\", \"Topeka\", \"Frankfort\", \"Baton Rouge\", \"Augusta\", \"Annapolis\",\n",
    "        \"Boston\", \"Lansing\", \"Saint Paul\", \"Jackson\", \"Jefferson City\", \"Helena\",\n",
    "        \"Lincoln\", \"Carson City\", \"Concord\", \"Trenton\", \"Santa Fe\", \"Albany\",\n",
    "        \"Raleigh\", \"Bismarck\", \"Columbus\", \"Oklahoma City\", \"Salem\", \"Harrisburg\",\n",
    "        \"Providence\", \"Columbia\", \"Pierre\", \"Nashville\", \"Austin\", \"Salt Lake City\",\n",
    "        \"Montpelier\", \"Richmond\", \"Olympia\", \"Charleston\", \"Madison\", \"Cheyenne\"],\n",
    "    \"area\": [159.8, 2716.7, 517.6, 116.2, 97.9, 153.3, 17.3, 22.4, 95.7, \n",
    "        133.5, 68.4, 63.8, 54.0, 361.5, 75.8, 56.0, 14.7, 76.8, 55.4, 6.73,\n",
    "        89.6, 35.0, 52.8, 104.9, 27.3, 14.0, 74.6, 143.4, 64.3, 7.66, 37.3, \n",
    "        21.4, 114.6, 26.9, 210.3, 620.3, 45.7, 8.11, 18.5, 125.2, 13.0, \n",
    "        525.9, 305.1, 109.1, 10.2, 60.1, 16.7, 31.6, 68.7, 21.1],\n",
    "    \"population\": [200, 31, 1660, 194, 509, 716, 125, 36, 181, 498, 360, \n",
    "        206, 116, 867, 203, 127, 26, 225, 19, 38, 694, 114, 285, 174, 43,\n",
    "        28, 258, 55, 43, 85, 76, 98, 404, 61, 893, 649, 155, 50, 178, 129,\n",
    "        14, 691, 964, 186, 8, 204, 46, 51, 233, 59]\n",
    "}\n",
    "capital_data = pd.DataFrame(dict)"
   ]
  },
  {
   "cell_type": "code",
   "execution_count": 8,
   "metadata": {},
   "outputs": [
    {
     "name": "stdout",
     "output_type": "stream",
     "text": [
      "0.17106270511514848\n"
     ]
    }
   ],
   "source": [
    "x = capital_data[\"population\"]\n",
    "y = capital_data[\"area\"]\n",
    "slope, intercept, r, p, se = linregress(x, y)\n",
    "print(r)"
   ]
  },
  {
   "cell_type": "code",
   "execution_count": 11,
   "metadata": {},
   "outputs": [
    {
     "data": {
      "text/plain": [
       "<matplotlib.collections.PathCollection at 0x187727d90>"
      ]
     },
     "execution_count": 11,
     "metadata": {},
     "output_type": "execute_result"
    },
    {
     "data": {
      "image/png": "[encoded data removed]",
      "text/plain": [
       "<Figure size 432x288 with 1 Axes>"
      ]
     },
     "metadata": {
      "needs_background": "light"
     },
     "output_type": "display_data"
    }
   ],
   "source": [
    "from matplotlib import pyplot as plt\n",
    "plt.scatter(x, y)"
   ]
  },
  {
   "cell_type": "code",
   "execution_count": 16,
   "metadata": {},
   "outputs": [
    {
     "data": {
      "text/plain": [
       "LinregressResult(slope=1.8746771081021059, intercept=73.04159097658228, rvalue=0.7869391695526158, pvalue=2.0265618604112987e-11, stderr=0.21440903224781302, intercept_stderr=36.721921032323515)"
      ]
     },
     "execution_count": 16,
     "metadata": {},
     "output_type": "execute_result"
    }
   ],
   "source": [
    "linregress(capital_data.drop(1)['area'], capital_data.drop(1)['population'])"
   ]
  },
  {
   "cell_type": "code",
   "execution_count": null,
   "metadata": {},
   "outputs": [],
   "source": []
  }
 ],
 "metadata": {
  "kernelspec": {
   "display_name": "pangeo_kernel",
   "language": "python",
   "name": "pangeo_kernel"
  },
  "language_info": {
   "codemirror_mode": {
    "name": "ipython",
    "version": 3
   },
   "file_extension": ".py",
   "mimetype": "text/x-python",
   "name": "python",
   "nbconvert_exporter": "python",
   "pygments_lexer": "ipython3",
   "version": "3.9.13"
  },
  "orig_nbformat": 4
 },
 "nbformat": 4,
 "nbformat_minor": 2
}
