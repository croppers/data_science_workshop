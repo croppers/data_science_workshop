{
 "cells": [
  {
   "cell_type": "markdown",
   "metadata": {},
   "source": [
    "# Welcome to Correlation!\n",
    "In this notebook, we will explore the concept of correlation through a real-world dataset. We'll learn how to perform a simple linear regression and test our dataset to see how it aligns with the assumptions underlying this statistical technique. Finally, we'll also talk about \"spurious correlations,\" which is something that you need to watch out for as a data scientist!"
   ]
  },
  {
   "cell_type": "code",
   "execution_count": 2,
   "metadata": {},
   "outputs": [],
   "source": [
    "from matplotlib import pyplot as plt\n",
    "import numpy as np\n",
    "import pandas as pd\n",
    "from scipy.stats import linregress"
   ]
  },
  {
   "cell_type": "markdown",
   "metadata": {},
   "source": [
    "let's go back to the city dataset we analyzed earlier"
   ]
  },
  {
   "cell_type": "code",
   "execution_count": 4,
   "metadata": {},
   "outputs": [
    {
     "data": {
      "text/html": [
       "<div>\n",
       "<style scoped>\n",
       "    .dataframe tbody tr th:only-of-type {\n",
       "        vertical-align: middle;\n",
       "    }\n",
       "\n",
       "    .dataframe tbody tr th {\n",
       "        vertical-align: top;\n",
       "    }\n",
       "\n",
       "    .dataframe thead th {\n",
       "        text-align: right;\n",
       "    }\n",
       "</style>\n",
       "<table border=\"1\" class=\"dataframe\">\n",
       "  <thead>\n",
       "    <tr style=\"text-align: right;\">\n",
       "      <th></th>\n",
       "      <th>state</th>\n",
       "      <th>capital</th>\n",
       "      <th>area</th>\n",
       "      <th>population</th>\n",
       "    </tr>\n",
       "  </thead>\n",
       "  <tbody>\n",
       "    <tr>\n",
       "      <th>0</th>\n",
       "      <td>Alabama</td>\n",
       "      <td>Montgomery</td>\n",
       "      <td>159.80</td>\n",
       "      <td>200</td>\n",
       "    </tr>\n",
       "    <tr>\n",
       "      <th>1</th>\n",
       "      <td>Alaska</td>\n",
       "      <td>Juneau</td>\n",
       "      <td>2716.70</td>\n",
       "      <td>31</td>\n",
       "    </tr>\n",
       "    <tr>\n",
       "      <th>2</th>\n",
       "      <td>Arizona</td>\n",
       "      <td>Phoenix</td>\n",
       "      <td>517.60</td>\n",
       "      <td>1660</td>\n",
       "    </tr>\n",
       "    <tr>\n",
       "      <th>3</th>\n",
       "      <td>Arkansas</td>\n",
       "      <td>Little Rock</td>\n",
       "      <td>116.20</td>\n",
       "      <td>194</td>\n",
       "    </tr>\n",
       "    <tr>\n",
       "      <th>4</th>\n",
       "      <td>California</td>\n",
       "      <td>Sacramento</td>\n",
       "      <td>97.90</td>\n",
       "      <td>509</td>\n",
       "    </tr>\n",
       "    <tr>\n",
       "      <th>5</th>\n",
       "      <td>Colorado</td>\n",
       "      <td>Denver</td>\n",
       "      <td>153.30</td>\n",
       "      <td>716</td>\n",
       "    </tr>\n",
       "    <tr>\n",
       "      <th>6</th>\n",
       "      <td>Connecticut</td>\n",
       "      <td>Hartford</td>\n",
       "      <td>17.30</td>\n",
       "      <td>125</td>\n",
       "    </tr>\n",
       "    <tr>\n",
       "      <th>7</th>\n",
       "      <td>Delaware</td>\n",
       "      <td>Dover</td>\n",
       "      <td>22.40</td>\n",
       "      <td>36</td>\n",
       "    </tr>\n",
       "    <tr>\n",
       "      <th>8</th>\n",
       "      <td>Florida</td>\n",
       "      <td>Tallahassee</td>\n",
       "      <td>95.70</td>\n",
       "      <td>181</td>\n",
       "    </tr>\n",
       "    <tr>\n",
       "      <th>9</th>\n",
       "      <td>Georgia</td>\n",
       "      <td>Atlanta</td>\n",
       "      <td>133.50</td>\n",
       "      <td>498</td>\n",
       "    </tr>\n",
       "    <tr>\n",
       "      <th>10</th>\n",
       "      <td>Hawaii</td>\n",
       "      <td>Honolulu</td>\n",
       "      <td>68.40</td>\n",
       "      <td>360</td>\n",
       "    </tr>\n",
       "    <tr>\n",
       "      <th>11</th>\n",
       "      <td>Idaho</td>\n",
       "      <td>Boise</td>\n",
       "      <td>63.80</td>\n",
       "      <td>206</td>\n",
       "    </tr>\n",
       "    <tr>\n",
       "      <th>12</th>\n",
       "      <td>Illinois</td>\n",
       "      <td>Springfield</td>\n",
       "      <td>54.00</td>\n",
       "      <td>116</td>\n",
       "    </tr>\n",
       "    <tr>\n",
       "      <th>13</th>\n",
       "      <td>Indiana</td>\n",
       "      <td>Indianapolis</td>\n",
       "      <td>361.50</td>\n",
       "      <td>867</td>\n",
       "    </tr>\n",
       "    <tr>\n",
       "      <th>14</th>\n",
       "      <td>Iowa</td>\n",
       "      <td>Des Moines</td>\n",
       "      <td>75.80</td>\n",
       "      <td>203</td>\n",
       "    </tr>\n",
       "    <tr>\n",
       "      <th>15</th>\n",
       "      <td>Kansas</td>\n",
       "      <td>Topeka</td>\n",
       "      <td>56.00</td>\n",
       "      <td>127</td>\n",
       "    </tr>\n",
       "    <tr>\n",
       "      <th>16</th>\n",
       "      <td>Kentucky</td>\n",
       "      <td>Frankfort</td>\n",
       "      <td>14.70</td>\n",
       "      <td>26</td>\n",
       "    </tr>\n",
       "    <tr>\n",
       "      <th>17</th>\n",
       "      <td>Louisiana</td>\n",
       "      <td>Baton Rouge</td>\n",
       "      <td>76.80</td>\n",
       "      <td>225</td>\n",
       "    </tr>\n",
       "    <tr>\n",
       "      <th>18</th>\n",
       "      <td>Maine</td>\n",
       "      <td>Augusta</td>\n",
       "      <td>55.40</td>\n",
       "      <td>19</td>\n",
       "    </tr>\n",
       "    <tr>\n",
       "      <th>19</th>\n",
       "      <td>Maryland</td>\n",
       "      <td>Annapolis</td>\n",
       "      <td>6.73</td>\n",
       "      <td>38</td>\n",
       "    </tr>\n",
       "    <tr>\n",
       "      <th>20</th>\n",
       "      <td>Massachusetts</td>\n",
       "      <td>Boston</td>\n",
       "      <td>89.60</td>\n",
       "      <td>694</td>\n",
       "    </tr>\n",
       "    <tr>\n",
       "      <th>21</th>\n",
       "      <td>Michigan</td>\n",
       "      <td>Lansing</td>\n",
       "      <td>35.00</td>\n",
       "      <td>114</td>\n",
       "    </tr>\n",
       "    <tr>\n",
       "      <th>22</th>\n",
       "      <td>Minnesota</td>\n",
       "      <td>Saint Paul</td>\n",
       "      <td>52.80</td>\n",
       "      <td>285</td>\n",
       "    </tr>\n",
       "    <tr>\n",
       "      <th>23</th>\n",
       "      <td>Mississippi</td>\n",
       "      <td>Jackson</td>\n",
       "      <td>104.90</td>\n",
       "      <td>174</td>\n",
       "    </tr>\n",
       "    <tr>\n",
       "      <th>24</th>\n",
       "      <td>Missouri</td>\n",
       "      <td>Jefferson City</td>\n",
       "      <td>27.30</td>\n",
       "      <td>43</td>\n",
       "    </tr>\n",
       "    <tr>\n",
       "      <th>25</th>\n",
       "      <td>Montana</td>\n",
       "      <td>Helena</td>\n",
       "      <td>14.00</td>\n",
       "      <td>28</td>\n",
       "    </tr>\n",
       "    <tr>\n",
       "      <th>26</th>\n",
       "      <td>Nebraska</td>\n",
       "      <td>Lincoln</td>\n",
       "      <td>74.60</td>\n",
       "      <td>258</td>\n",
       "    </tr>\n",
       "    <tr>\n",
       "      <th>27</th>\n",
       "      <td>Nevada</td>\n",
       "      <td>Carson City</td>\n",
       "      <td>143.40</td>\n",
       "      <td>55</td>\n",
       "    </tr>\n",
       "    <tr>\n",
       "      <th>28</th>\n",
       "      <td>New Hampshire</td>\n",
       "      <td>Concord</td>\n",
       "      <td>64.30</td>\n",
       "      <td>43</td>\n",
       "    </tr>\n",
       "    <tr>\n",
       "      <th>29</th>\n",
       "      <td>New Jersey</td>\n",
       "      <td>Trenton</td>\n",
       "      <td>7.66</td>\n",
       "      <td>85</td>\n",
       "    </tr>\n",
       "    <tr>\n",
       "      <th>30</th>\n",
       "      <td>New Mexico</td>\n",
       "      <td>Santa Fe</td>\n",
       "      <td>37.30</td>\n",
       "      <td>76</td>\n",
       "    </tr>\n",
       "    <tr>\n",
       "      <th>31</th>\n",
       "      <td>New York</td>\n",
       "      <td>Albany</td>\n",
       "      <td>21.40</td>\n",
       "      <td>98</td>\n",
       "    </tr>\n",
       "    <tr>\n",
       "      <th>32</th>\n",
       "      <td>North Carolina</td>\n",
       "      <td>Raleigh</td>\n",
       "      <td>114.60</td>\n",
       "      <td>404</td>\n",
       "    </tr>\n",
       "    <tr>\n",
       "      <th>33</th>\n",
       "      <td>North Dakota</td>\n",
       "      <td>Bismarck</td>\n",
       "      <td>26.90</td>\n",
       "      <td>61</td>\n",
       "    </tr>\n",
       "    <tr>\n",
       "      <th>34</th>\n",
       "      <td>Ohio</td>\n",
       "      <td>Columbus</td>\n",
       "      <td>210.30</td>\n",
       "      <td>893</td>\n",
       "    </tr>\n",
       "    <tr>\n",
       "      <th>35</th>\n",
       "      <td>Oklahoma</td>\n",
       "      <td>Oklahoma City</td>\n",
       "      <td>620.30</td>\n",
       "      <td>649</td>\n",
       "    </tr>\n",
       "    <tr>\n",
       "      <th>36</th>\n",
       "      <td>Oregon</td>\n",
       "      <td>Salem</td>\n",
       "      <td>45.70</td>\n",
       "      <td>155</td>\n",
       "    </tr>\n",
       "    <tr>\n",
       "      <th>37</th>\n",
       "      <td>Pennsylvania</td>\n",
       "      <td>Harrisburg</td>\n",
       "      <td>8.11</td>\n",
       "      <td>50</td>\n",
       "    </tr>\n",
       "    <tr>\n",
       "      <th>38</th>\n",
       "      <td>Rhode Island</td>\n",
       "      <td>Providence</td>\n",
       "      <td>18.50</td>\n",
       "      <td>178</td>\n",
       "    </tr>\n",
       "    <tr>\n",
       "      <th>39</th>\n",
       "      <td>South Carolina</td>\n",
       "      <td>Columbia</td>\n",
       "      <td>125.20</td>\n",
       "      <td>129</td>\n",
       "    </tr>\n",
       "    <tr>\n",
       "      <th>40</th>\n",
       "      <td>South Dakota</td>\n",
       "      <td>Pierre</td>\n",
       "      <td>13.00</td>\n",
       "      <td>14</td>\n",
       "    </tr>\n",
       "    <tr>\n",
       "      <th>41</th>\n",
       "      <td>Tennessee</td>\n",
       "      <td>Nashville</td>\n",
       "      <td>525.90</td>\n",
       "      <td>691</td>\n",
       "    </tr>\n",
       "    <tr>\n",
       "      <th>42</th>\n",
       "      <td>Texas</td>\n",
       "      <td>Austin</td>\n",
       "      <td>305.10</td>\n",
       "      <td>964</td>\n",
       "    </tr>\n",
       "    <tr>\n",
       "      <th>43</th>\n",
       "      <td>Utah</td>\n",
       "      <td>Salt Lake City</td>\n",
       "      <td>109.10</td>\n",
       "      <td>186</td>\n",
       "    </tr>\n",
       "    <tr>\n",
       "      <th>44</th>\n",
       "      <td>Vermont</td>\n",
       "      <td>Montpelier</td>\n",
       "      <td>10.20</td>\n",
       "      <td>8</td>\n",
       "    </tr>\n",
       "    <tr>\n",
       "      <th>45</th>\n",
       "      <td>Virginia</td>\n",
       "      <td>Richmond</td>\n",
       "      <td>60.10</td>\n",
       "      <td>204</td>\n",
       "    </tr>\n",
       "    <tr>\n",
       "      <th>46</th>\n",
       "      <td>Washington</td>\n",
       "      <td>Olympia</td>\n",
       "      <td>16.70</td>\n",
       "      <td>46</td>\n",
       "    </tr>\n",
       "    <tr>\n",
       "      <th>47</th>\n",
       "      <td>West Virginia</td>\n",
       "      <td>Charleston</td>\n",
       "      <td>31.60</td>\n",
       "      <td>51</td>\n",
       "    </tr>\n",
       "    <tr>\n",
       "      <th>48</th>\n",
       "      <td>Wisconsin</td>\n",
       "      <td>Madison</td>\n",
       "      <td>68.70</td>\n",
       "      <td>233</td>\n",
       "    </tr>\n",
       "    <tr>\n",
       "      <th>49</th>\n",
       "      <td>Wyoming</td>\n",
       "      <td>Cheyenne</td>\n",
       "      <td>21.10</td>\n",
       "      <td>59</td>\n",
       "    </tr>\n",
       "  </tbody>\n",
       "</table>\n",
       "</div>"
      ],
      "text/plain": [
       "             state         capital     area  population\n",
       "0          Alabama      Montgomery   159.80         200\n",
       "1           Alaska          Juneau  2716.70          31\n",
       "2          Arizona         Phoenix   517.60        1660\n",
       "3         Arkansas     Little Rock   116.20         194\n",
       "4       California      Sacramento    97.90         509\n",
       "5         Colorado          Denver   153.30         716\n",
       "6      Connecticut        Hartford    17.30         125\n",
       "7         Delaware           Dover    22.40          36\n",
       "8          Florida     Tallahassee    95.70         181\n",
       "9          Georgia         Atlanta   133.50         498\n",
       "10          Hawaii        Honolulu    68.40         360\n",
       "11           Idaho           Boise    63.80         206\n",
       "12        Illinois     Springfield    54.00         116\n",
       "13         Indiana    Indianapolis   361.50         867\n",
       "14            Iowa      Des Moines    75.80         203\n",
       "15          Kansas          Topeka    56.00         127\n",
       "16        Kentucky       Frankfort    14.70          26\n",
       "17       Louisiana     Baton Rouge    76.80         225\n",
       "18           Maine         Augusta    55.40          19\n",
       "19        Maryland       Annapolis     6.73          38\n",
       "20   Massachusetts          Boston    89.60         694\n",
       "21        Michigan         Lansing    35.00         114\n",
       "22       Minnesota      Saint Paul    52.80         285\n",
       "23     Mississippi         Jackson   104.90         174\n",
       "24        Missouri  Jefferson City    27.30          43\n",
       "25         Montana          Helena    14.00          28\n",
       "26        Nebraska         Lincoln    74.60         258\n",
       "27          Nevada     Carson City   143.40          55\n",
       "28   New Hampshire         Concord    64.30          43\n",
       "29      New Jersey         Trenton     7.66          85\n",
       "30      New Mexico        Santa Fe    37.30          76\n",
       "31        New York          Albany    21.40          98\n",
       "32  North Carolina         Raleigh   114.60         404\n",
       "33    North Dakota        Bismarck    26.90          61\n",
       "34            Ohio        Columbus   210.30         893\n",
       "35        Oklahoma   Oklahoma City   620.30         649\n",
       "36          Oregon           Salem    45.70         155\n",
       "37    Pennsylvania      Harrisburg     8.11          50\n",
       "38    Rhode Island      Providence    18.50         178\n",
       "39  South Carolina        Columbia   125.20         129\n",
       "40    South Dakota          Pierre    13.00          14\n",
       "41       Tennessee       Nashville   525.90         691\n",
       "42           Texas          Austin   305.10         964\n",
       "43            Utah  Salt Lake City   109.10         186\n",
       "44         Vermont      Montpelier    10.20           8\n",
       "45        Virginia        Richmond    60.10         204\n",
       "46      Washington         Olympia    16.70          46\n",
       "47   West Virginia      Charleston    31.60          51\n",
       "48       Wisconsin         Madison    68.70         233\n",
       "49         Wyoming        Cheyenne    21.10          59"
      ]
     },
     "execution_count": 4,
     "metadata": {},
     "output_type": "execute_result"
    }
   ],
   "source": [
    "dict = {\n",
    "    \"state\": [\"Alabama\",\"Alaska\",\"Arizona\",\"Arkansas\",\"California\",\"Colorado\",\n",
    "        \"Connecticut\",\"Delaware\",\"Florida\",\"Georgia\",\"Hawaii\",\"Idaho\",\"Illinois\",\n",
    "        \"Indiana\",\"Iowa\",\"Kansas\",\"Kentucky\",\"Louisiana\",\"Maine\",\"Maryland\",\n",
    "        \"Massachusetts\",\"Michigan\",\"Minnesota\",\"Mississippi\",\"Missouri\",\"Montana\",\n",
    "        \"Nebraska\",\"Nevada\",\"New Hampshire\",\"New Jersey\",\"New Mexico\",\"New York\",\n",
    "        \"North Carolina\",\"North Dakota\",\"Ohio\",\"Oklahoma\",\"Oregon\",\"Pennsylvania\",\n",
    "        \"Rhode Island\",\"South Carolina\",\"South Dakota\",\"Tennessee\",\"Texas\",\"Utah\",\n",
    "        \"Vermont\",\"Virginia\",\"Washington\",\"West Virginia\",\"Wisconsin\",\"Wyoming\"],\n",
    "    \"capital\": [\"Montgomery\", \"Juneau\", \"Phoenix\", \"Little Rock\", \"Sacramento\", \"Denver\",\n",
    "        \"Hartford\", \"Dover\", \"Tallahassee\", \"Atlanta\", \"Honolulu\", \"Boise\", \"Springfield\",\n",
    "        \"Indianapolis\", \"Des Moines\", \"Topeka\", \"Frankfort\", \"Baton Rouge\", \"Augusta\", \"Annapolis\",\n",
    "        \"Boston\", \"Lansing\", \"Saint Paul\", \"Jackson\", \"Jefferson City\", \"Helena\",\n",
    "        \"Lincoln\", \"Carson City\", \"Concord\", \"Trenton\", \"Santa Fe\", \"Albany\",\n",
    "        \"Raleigh\", \"Bismarck\", \"Columbus\", \"Oklahoma City\", \"Salem\", \"Harrisburg\",\n",
    "        \"Providence\", \"Columbia\", \"Pierre\", \"Nashville\", \"Austin\", \"Salt Lake City\",\n",
    "        \"Montpelier\", \"Richmond\", \"Olympia\", \"Charleston\", \"Madison\", \"Cheyenne\"],\n",
    "    \"area\": [159.8, 2716.7, 517.6, 116.2, 97.9, 153.3, 17.3, 22.4, 95.7, \n",
    "        133.5, 68.4, 63.8, 54.0, 361.5, 75.8, 56.0, 14.7, 76.8, 55.4, 6.73,\n",
    "        89.6, 35.0, 52.8, 104.9, 27.3, 14.0, 74.6, 143.4, 64.3, 7.66, 37.3, \n",
    "        21.4, 114.6, 26.9, 210.3, 620.3, 45.7, 8.11, 18.5, 125.2, 13.0, \n",
    "        525.9, 305.1, 109.1, 10.2, 60.1, 16.7, 31.6, 68.7, 21.1],\n",
    "    \"population\": [200, 31, 1660, 194, 509, 716, 125, 36, 181, 498, 360, \n",
    "        206, 116, 867, 203, 127, 26, 225, 19, 38, 694, 114, 285, 174, 43,\n",
    "        28, 258, 55, 43, 85, 76, 98, 404, 61, 893, 649, 155, 50, 178, 129,\n",
    "        14, 691, 964, 186, 8, 204, 46, 51, 233, 59]\n",
    "}\n",
    "capital_data = pd.DataFrame(dict)\n",
    "capital_data"
   ]
  },
  {
   "cell_type": "markdown",
   "metadata": {},
   "source": [
    "is there a correlation between US State Capital area and population?\n",
    "* population density of a city is relatively constant\n",
    "* more area, more people"
   ]
  },
  {
   "cell_type": "code",
   "execution_count": 6,
   "metadata": {},
   "outputs": [],
   "source": [
    "# linregress(x, y) # x is the independent variable, y is the dependent variable\n",
    "slope, intercept, r, p, se = linregress(capital_data['area'], capital_data['population'])"
   ]
  },
  {
   "cell_type": "code",
   "execution_count": 8,
   "metadata": {},
   "outputs": [
    {
     "data": {
      "text/plain": [
       "286.11646996150256"
      ]
     },
     "execution_count": 8,
     "metadata": {},
     "output_type": "execute_result"
    }
   ],
   "source": [
    "def predict_population(area):\n",
    "    predicted_area = slope*area + intercept\n",
    "    return predicted_area\n",
    "\n",
    "predict_population(305.10)"
   ]
  },
  {
   "cell_type": "markdown",
   "metadata": {},
   "source": [
    "at first glance, it doesn't seem like it. our r-squared value is just about 0.03, indicating an extremely weak / insignificant relationship. but let's visualize the data just to make sure..."
   ]
  },
  {
   "cell_type": "code",
   "execution_count": 10,
   "metadata": {},
   "outputs": [
    {
     "data": {
      "text/plain": [
       "0.029262449081312248"
      ]
     },
     "execution_count": 10,
     "metadata": {},
     "output_type": "execute_result"
    }
   ],
   "source": [
    "r**2\n",
    "# r close to -1 or 1 --> you have a nearly perfect (negative/positive) correlation\n",
    "# r close to 0.6 to 0.8 (+/-) you have a moderate correlation\n",
    "# r close to 0 you have a weak correlation\n",
    "# r**2 shows the fraction of variability in the dataset that's explained by x"
   ]
  },
  {
   "cell_type": "code",
   "execution_count": 11,
   "metadata": {},
   "outputs": [
    {
     "data": {
      "text/plain": [
       "<matplotlib.collections.PathCollection at 0x250611bd820>"
      ]
     },
     "execution_count": 11,
     "metadata": {},
     "output_type": "execute_result"
    },
    {
     "data": {
      "image/png": "[encoded data removed]",
      "text/plain": [
       "<Figure size 432x288 with 1 Axes>"
      ]
     },
     "metadata": {
      "needs_background": "light"
     },
     "output_type": "display_data"
    }
   ],
   "source": [
    "plt.scatter(capital_data['area'], capital_data['population'])\n",
    "# Juneau, Alaska is the largest state capital"
   ]
  },
  {
   "cell_type": "markdown",
   "metadata": {},
   "source": [
    "wow! it looks like we have a spurious point, where the state capital is almost 3000 square miles in area. let's try to spot this in our data frame"
   ]
  },
  {
   "cell_type": "code",
   "execution_count": 13,
   "metadata": {},
   "outputs": [
    {
     "data": {
      "text/html": [
       "<div>\n",
       "<style scoped>\n",
       "    .dataframe tbody tr th:only-of-type {\n",
       "        vertical-align: middle;\n",
       "    }\n",
       "\n",
       "    .dataframe tbody tr th {\n",
       "        vertical-align: top;\n",
       "    }\n",
       "\n",
       "    .dataframe thead th {\n",
       "        text-align: right;\n",
       "    }\n",
       "</style>\n",
       "<table border=\"1\" class=\"dataframe\">\n",
       "  <thead>\n",
       "    <tr style=\"text-align: right;\">\n",
       "      <th></th>\n",
       "      <th>state</th>\n",
       "      <th>capital</th>\n",
       "      <th>area</th>\n",
       "      <th>population</th>\n",
       "    </tr>\n",
       "  </thead>\n",
       "  <tbody>\n",
       "    <tr>\n",
       "      <th>1</th>\n",
       "      <td>Alaska</td>\n",
       "      <td>Juneau</td>\n",
       "      <td>2716.7</td>\n",
       "      <td>31</td>\n",
       "    </tr>\n",
       "  </tbody>\n",
       "</table>\n",
       "</div>"
      ],
      "text/plain": [
       "    state capital    area  population\n",
       "1  Alaska  Juneau  2716.7          31"
      ]
     },
     "execution_count": 13,
     "metadata": {},
     "output_type": "execute_result"
    }
   ],
   "source": [
    "mask = capital_data['area'] > 2000\n",
    "capital_data[mask]"
   ]
  },
  {
   "cell_type": "markdown",
   "metadata": {},
   "source": [
    "it seems like if we get rid of this one point, then we might see a relationship. let's investigate and see"
   ]
  },
  {
   "cell_type": "code",
   "execution_count": 16,
   "metadata": {},
   "outputs": [
    {
     "data": {
      "text/plain": [
       "645.0055766585348"
      ]
     },
     "execution_count": 16,
     "metadata": {},
     "output_type": "execute_result"
    }
   ],
   "source": [
    "capital_data_clean = capital_data.drop(1)\n",
    "slope, intercept, r, p, se = linregress(capital_data_clean['area'], capital_data_clean['population'])\n",
    "r**2\n",
    "\n",
    "def predict_population(area):\n",
    "    predicted_area = slope*area + intercept\n",
    "    return predicted_area\n",
    "\n",
    "predict_population(305.10)"
   ]
  },
  {
   "cell_type": "markdown",
   "metadata": {},
   "source": [
    "sweet! this is a much stronger result--indicating a moderate relationship. is there any way that we can get the average population density of the capitals from our regression? (hint: the units will be people per square area)"
   ]
  },
  {
   "cell_type": "code",
   "execution_count": 17,
   "metadata": {},
   "outputs": [
    {
     "data": {
      "text/plain": [
       "1.8746771081021059"
      ]
     },
     "execution_count": 17,
     "metadata": {},
     "output_type": "execute_result"
    }
   ],
   "source": [
    "slope"
   ]
  },
  {
   "cell_type": "markdown",
   "metadata": {},
   "source": [
    "Are there cases when we cannot perform a linear regression? **Absolutely**\n",
    "1. if variation is too low in either dimension (not the case for us)\n",
    "2. if the residuals are not normally distributed (we will test this below)\n",
    "3. if the dataset is heteroscedasticity (what's that?)\n",
    "4. if the correlation is spurious (check this out: http://www.tylervigen.com/spurious-correlations)\n"
   ]
  },
  {
   "cell_type": "markdown",
   "metadata": {},
   "source": [
    "## testing our residuals\n",
    "to test our residuals, we will generate predictions of the population based on area using our linear regression model. then, we'll subtract the real population values from those predictions."
   ]
  },
  {
   "cell_type": "code",
   "execution_count": 18,
   "metadata": {},
   "outputs": [
    {
     "data": {
      "text/plain": [
       "(array([ 1.,  1.,  1.,  4., 26.,  8.,  3.,  2.,  2.,  1.]),\n",
       " array([-586.90380113, -466.55086723, -346.19793333, -225.84499943,\n",
       "        -105.49206553,   14.86086837,  135.21380227,  255.56673617,\n",
       "         375.91967007,  496.27260397,  616.62553787]),\n",
       " <BarContainer object of 10 artists>)"
      ]
     },
     "execution_count": 18,
     "metadata": {},
     "output_type": "execute_result"
    },
    {
     "data": {
      "image/png": "[encoded data removed]",
      "text/plain": [
       "<Figure size 432x288 with 1 Axes>"
      ]
     },
     "metadata": {
      "needs_background": "light"
     },
     "output_type": "display_data"
    }
   ],
   "source": [
    "# real population values (dependent values, y)\n",
    "pop = capital_data_clean['population']\n",
    "\n",
    "# real area values (independent values, x)\n",
    "area = capital_data_clean['area']\n",
    "\n",
    "# predicted population values (predicted dependent values, y_pred)\n",
    "pop_pred = slope*area + intercept\n",
    "\n",
    "# residuals are the difference y - y_pred\n",
    "residuals = pop - pop_pred\n",
    "\n",
    "plt.hist(residuals)"
   ]
  },
  {
   "cell_type": "code",
   "execution_count": 19,
   "metadata": {},
   "outputs": [
    {
     "data": {
      "text/plain": [
       "<matplotlib.collections.PathCollection at 0x2506133ee80>"
      ]
     },
     "execution_count": 19,
     "metadata": {},
     "output_type": "execute_result"
    },
    {
     "data": {
      "image/png": "[encoded data removed]",
      "text/plain": [
       "<Figure size 432x288 with 1 Axes>"
      ]
     },
     "metadata": {
      "needs_background": "light"
     },
     "output_type": "display_data"
    }
   ],
   "source": [
    "plt.scatter(area, residuals)"
   ]
  },
  {
   "cell_type": "code",
   "execution_count": null,
   "metadata": {},
   "outputs": [],
   "source": []
  }
 ],
 "metadata": {
  "kernelspec": {
   "display_name": "ENSO_JET_CWP",
   "language": "python",
   "name": "enso_jet_cwp"
  },
  "language_info": {
   "codemirror_mode": {
    "name": "ipython",
    "version": 3
   },
   "file_extension": ".py",
   "mimetype": "text/x-python",
   "name": "python",
   "nbconvert_exporter": "python",
   "pygments_lexer": "ipython3",
   "version": "3.9.12"
  }
 },
 "nbformat": 4,
 "nbformat_minor": 2
}
